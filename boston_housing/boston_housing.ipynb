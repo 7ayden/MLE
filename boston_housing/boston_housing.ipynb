{
 "cells": [
  {
   "cell_type": "code",
   "execution_count": 16,
   "metadata": {
    "collapsed": true
   },
   "outputs": [],
   "source": [
    "\"\"\"Load the Boston dataset and examine its target (label) distribution.\"\"\"\n",
    "\n",
    "# Load libraries\n",
    "import numpy as np\n",
    "import pylab as pl\n",
    "from sklearn import datasets\n",
    "from sklearn.tree import DecisionTreeRegressor"
   ]
  },
  {
   "cell_type": "code",
   "execution_count": 24,
   "metadata": {
    "collapsed": false
   },
   "outputs": [],
   "source": [
    "city_data = datasets.load_boston()"
   ]
  },
  {
   "cell_type": "code",
   "execution_count": 25,
   "metadata": {
    "collapsed": false
   },
   "outputs": [
    {
     "name": "stdout",
     "output_type": "stream",
     "text": [
      "Data Size: 506\n",
      "Number of features: 13\n",
      "Min value: 5.0\n",
      "Max value: 50.0\n",
      "Mean: 22.5328063241\n",
      "Median: 21.2\n",
      "Standard deviation: 9.18801154528\n"
     ]
    }
   ],
   "source": [
    "    housing_prices = city_data.target\n",
    "    housing_features = city_data.data\n",
    "\n",
    "    n_samples, n_features = np.shape(housing_features)\n",
    "\n",
    "    # Please calculate the following values using the Numpy library\n",
    "    # Size of data?\n",
    "    # Number of features?\n",
    "    # Minimum value?\n",
    "    # Maximum Value?\n",
    "    # Calculate mean?\n",
    "    # Calculate median?\n",
    "    # Calculate standard deviation?\n",
    "    # Size of data\n",
    "    print \"Data Size:\", len(housing_prices)\n",
    "    print \"Number of features:\", n_features\n",
    "    print \"Min value:\", np.min(housing_prices)\n",
    "    print \"Max value:\", np.max(housing_prices)\n",
    "    print \"Mean:\", np.mean(housing_prices)\n",
    "    print \"Median:\", np.median(housing_prices)\n",
    "    print \"Standard deviation:\", np.std(housing_prices)"
   ]
  },
  {
   "cell_type": "code",
   "execution_count": 22,
   "metadata": {
    "collapsed": false
   },
   "outputs": [],
   "source": [
    "from sklearn.metrics import make_scorer\n",
    "from sklearn import metrics\n",
    "def performance_metric(label, prediction):\n",
    "    MSE = metrics.mean_squared_error(label,prediction)\n",
    "    return MSE"
   ]
  },
  {
   "cell_type": "code",
   "execution_count": 26,
   "metadata": {
    "collapsed": true
   },
   "outputs": [],
   "source": [
    "from sklearn.cross_validation import train_test_split\n",
    "def split_data(city_data):\n",
    "    \"\"\"Randomly shuffle the sample set. Divide it into training and testing set.\"\"\"\n",
    "\n",
    "    # Get the features and labels from the Boston housing data\n",
    "    X, y = city_data.data, city_data.target\n",
    "    X_train, X_test, y_train, y_test = cross_validation.train_test_split(X, y, random_state=0)\n",
    "\n",
    "    return X_train, y_train, X_test, y_test"
   ]
  },
  {
   "cell_type": "code",
   "execution_count": 34,
   "metadata": {
    "collapsed": false,
    "scrolled": true
   },
   "outputs": [
    {
     "name": "stdout",
     "output_type": "stream",
     "text": [
      "Data Size: 506\n",
      "Number of features: 13\n",
      "Min value: 5.0\n",
      "Max value: 50.0\n",
      "Mean: 22.5328063241\n",
      "Median: 21.2\n",
      "Standard deviation: 9.18801154528\n"
     ]
    },
    {
     "ename": "NameError",
     "evalue": "global name 'cross_validation' is not defined",
     "output_type": "error",
     "traceback": [
      "\u001b[0;31m---------------------------------------------------------------------------\u001b[0m",
      "\u001b[0;31mNameError\u001b[0m                                 Traceback (most recent call last)",
      "\u001b[0;32m<ipython-input-34-7b69d1ba4e23>\u001b[0m in \u001b[0;36m<module>\u001b[0;34m()\u001b[0m\n\u001b[1;32m    149\u001b[0m \u001b[0;34m\u001b[0m\u001b[0m\n\u001b[1;32m    150\u001b[0m \u001b[0;32mif\u001b[0m \u001b[0m__name__\u001b[0m \u001b[0;34m==\u001b[0m \u001b[0;34m'__main__'\u001b[0m\u001b[0;34m:\u001b[0m\u001b[0;34m\u001b[0m\u001b[0m\n\u001b[0;32m--> 151\u001b[0;31m     \u001b[0mmain\u001b[0m\u001b[0;34m(\u001b[0m\u001b[0;34m)\u001b[0m\u001b[0;34m\u001b[0m\u001b[0m\n\u001b[0m\u001b[1;32m    152\u001b[0m \u001b[0;34m\u001b[0m\u001b[0m\n\u001b[1;32m    153\u001b[0m \u001b[0;34m\u001b[0m\u001b[0m\n",
      "\u001b[0;32m<ipython-input-34-7b69d1ba4e23>\u001b[0m in \u001b[0;36mmain\u001b[0;34m()\u001b[0m\n\u001b[1;32m    135\u001b[0m \u001b[0;34m\u001b[0m\u001b[0m\n\u001b[1;32m    136\u001b[0m     \u001b[0;31m# Training/Test dataset split\u001b[0m\u001b[0;34m\u001b[0m\u001b[0;34m\u001b[0m\u001b[0m\n\u001b[0;32m--> 137\u001b[0;31m     \u001b[0mX_train\u001b[0m\u001b[0;34m,\u001b[0m \u001b[0my_train\u001b[0m\u001b[0;34m,\u001b[0m \u001b[0mX_test\u001b[0m\u001b[0;34m,\u001b[0m \u001b[0my_test\u001b[0m \u001b[0;34m=\u001b[0m \u001b[0msplit_data\u001b[0m\u001b[0;34m(\u001b[0m\u001b[0mcity_data\u001b[0m\u001b[0;34m)\u001b[0m\u001b[0;34m\u001b[0m\u001b[0m\n\u001b[0m\u001b[1;32m    138\u001b[0m \u001b[0;34m\u001b[0m\u001b[0m\n\u001b[1;32m    139\u001b[0m     \u001b[0;31m# Learning Curve Graphs\u001b[0m\u001b[0;34m\u001b[0m\u001b[0;34m\u001b[0m\u001b[0m\n",
      "\u001b[0;32m<ipython-input-34-7b69d1ba4e23>\u001b[0m in \u001b[0;36msplit_data\u001b[0;34m(city_data)\u001b[0m\n\u001b[1;32m      5\u001b[0m     \u001b[0;31m# Get the features and labels from the Boston housing data\u001b[0m\u001b[0;34m\u001b[0m\u001b[0;34m\u001b[0m\u001b[0m\n\u001b[1;32m      6\u001b[0m     \u001b[0mX\u001b[0m\u001b[0;34m,\u001b[0m \u001b[0my\u001b[0m \u001b[0;34m=\u001b[0m \u001b[0mcity_data\u001b[0m\u001b[0;34m.\u001b[0m\u001b[0mdata\u001b[0m\u001b[0;34m,\u001b[0m \u001b[0mcity_data\u001b[0m\u001b[0;34m.\u001b[0m\u001b[0mtarget\u001b[0m\u001b[0;34m\u001b[0m\u001b[0m\n\u001b[0;32m----> 7\u001b[0;31m     \u001b[0mX_train\u001b[0m\u001b[0;34m,\u001b[0m \u001b[0mX_test\u001b[0m\u001b[0;34m,\u001b[0m \u001b[0my_train\u001b[0m\u001b[0;34m,\u001b[0m \u001b[0my_test\u001b[0m \u001b[0;34m=\u001b[0m \u001b[0mcross_validation\u001b[0m\u001b[0;34m.\u001b[0m\u001b[0mtrain_test_split\u001b[0m\u001b[0;34m(\u001b[0m\u001b[0mX\u001b[0m\u001b[0;34m,\u001b[0m \u001b[0my\u001b[0m\u001b[0;34m,\u001b[0m \u001b[0mrandom_state\u001b[0m\u001b[0;34m=\u001b[0m\u001b[0;36m0\u001b[0m\u001b[0;34m)\u001b[0m\u001b[0;34m\u001b[0m\u001b[0m\n\u001b[0m\u001b[1;32m      8\u001b[0m \u001b[0;34m\u001b[0m\u001b[0m\n\u001b[1;32m      9\u001b[0m     \u001b[0;32mreturn\u001b[0m \u001b[0mX_train\u001b[0m\u001b[0;34m,\u001b[0m \u001b[0my_train\u001b[0m\u001b[0;34m,\u001b[0m \u001b[0mX_test\u001b[0m\u001b[0;34m,\u001b[0m \u001b[0my_test\u001b[0m\u001b[0;34m\u001b[0m\u001b[0m\n",
      "\u001b[0;31mNameError\u001b[0m: global name 'cross_validation' is not defined"
     ]
    }
   ],
   "source": [
    "from sklearn.cross_validation import train_test_split\n",
    "def split_data(city_data):\n",
    "    \"\"\"Randomly shuffle the sample set. Divide it into training and testing set.\"\"\"\n",
    "\n",
    "    # Get the features and labels from the Boston housing data\n",
    "    X, y = city_data.data, city_data.target\n",
    "    X_train, X_test, y_train, y_test = cross_validation.train_test_split(X, y, random_state=0)\n",
    "\n",
    "    return X_train, y_train, X_test, y_test\n",
    "\n",
    "from sklearn.metrics import make_scorer\n",
    "from sklearn import grid_search\n",
    "\n",
    "\n",
    "def learning_curve(depth, X_train, y_train, X_test, y_test):\n",
    "    \"\"\"Calculate the performance of the model after a set of training data.\"\"\"\n",
    "\n",
    "    # We will vary the training set size so that we have 50 different sizes\n",
    "    sizes = np.linspace(1, len(X_train), 50)\n",
    "    train_err = np.zeros(len(sizes))\n",
    "    test_err = np.zeros(len(sizes))\n",
    "\n",
    "    print \"Decision Tree with Max Depth: \"\n",
    "    print depth\n",
    "\n",
    "    for i, s in enumerate(sizes):\n",
    "\n",
    "        # Create and fit the decision tree regressor model\n",
    "        regressor = DecisionTreeRegressor(max_depth=depth)\n",
    "        regressor.fit(X_train[:s], y_train[:s])\n",
    "\n",
    "        # Find the performance on the training and testing set\n",
    "        train_err[i] = performance_metric(y_train[:s], regressor.predict(X_train[:s]))\n",
    "        test_err[i] = performance_metric(y_test, regressor.predict(X_test))\n",
    "\n",
    "\n",
    "    # Plot learning curve graph\n",
    "    learning_curve_graph(sizes, train_err, test_err)\n",
    "\n",
    "\n",
    "def learning_curve_graph(sizes, train_err, test_err):\n",
    "    \"\"\"Plot training and test error as a function of the training size.\"\"\"\n",
    "\n",
    "    pl.figure()\n",
    "    pl.title('Decision Trees: Performance vs Training Size')\n",
    "    pl.plot(sizes, test_err, lw=2, label = 'test error')\n",
    "    pl.plot(sizes, train_err, lw=2, label = 'training error')\n",
    "    pl.legend()\n",
    "    pl.xlabel('Training Size')\n",
    "    pl.ylabel('Error')\n",
    "    pl.show()\n",
    "\n",
    "\n",
    "def model_complexity(X_train, y_train, X_test, y_test):\n",
    "    \"\"\"Calculate the performance of the model as model complexity increases.\"\"\"\n",
    "\n",
    "    print \"Model Complexity: \"\n",
    "\n",
    "    # We will vary the depth of decision trees from 2 to 25\n",
    "    max_depth = np.arange(1, 25)\n",
    "    train_err = np.zeros(len(max_depth))\n",
    "    test_err = np.zeros(len(max_depth))\n",
    "\n",
    "    for i, d in enumerate(max_depth):\n",
    "        # Setup a Decision Tree Regressor so that it learns a tree with depth d\n",
    "        regressor = DecisionTreeRegressor(max_depth=d)\n",
    "\n",
    "        # Fit the learner to the training data\n",
    "        regressor.fit(X_train, y_train)\n",
    "\n",
    "        # Find the performance on the training set\n",
    "        train_err[i] = performance_metric(y_train, regressor.predict(X_train))\n",
    "\n",
    "        # Find the performance on the testing set\n",
    "        test_err[i] = performance_metric(y_test, regressor.predict(X_test))\n",
    "\n",
    "    # Plot the model complexity graph\n",
    "    model_complexity_graph(max_depth, train_err, test_err)\n",
    "\n",
    "\n",
    "def model_complexity_graph(max_depth, train_err, test_err):\n",
    "    \"\"\"Plot training and test error as a function of the depth of the decision tree learn.\"\"\"\n",
    "\n",
    "    pl.figure()\n",
    "    pl.title('Decision Trees: Performance vs Max Depth')\n",
    "    pl.plot(max_depth, test_err, lw=2, label = 'test error')\n",
    "    pl.plot(max_depth, train_err, lw=2, label = 'training error')\n",
    "    pl.legend()\n",
    "    pl.xlabel('Max Depth')\n",
    "    pl.ylabel('Error')\n",
    "    pl.show()\n",
    "\n",
    "\n",
    "def fit_predict_model(city_data):\n",
    "    \"\"\"Find and tune the optimal model. Make a prediction on housing data.\"\"\"\n",
    "\n",
    "    # Get the features and labels from the Boston housing data\n",
    "    X, y = city_data.data, city_data.target\n",
    "\n",
    "    # Setup a Decision Tree Regressor\n",
    "    regressor = DecisionTreeRegressor()\n",
    "\n",
    "    parameters = {'max_depth':(1,2,3,4,5,6,7,8,9,10)}\n",
    "\n",
    "    # 1. Find the best performance metric\n",
    "    # should be the same as your performance_metric procedure\n",
    "    # http://scikit-learn.org/stable/modules/generated/sklearn.metrics.make_scorer.html\n",
    "\n",
    "    sco = make_scorer(performance_metric)\n",
    "    # 2. Use gridearch to fine tune the Decision Tree Regressor and find the best model\n",
    "    # http://scikit-learn.org/stable/modules/generated/sklearn.grid_search.GridSearchCV.html#sklearn.grid_search.GridSearchCV\n",
    "    reg = regressor.GridSearch(regressor, parameters, scoring = sco)\n",
    "    \n",
    "    # Fit the learner to the training data\n",
    "    score_func(y, y_pred, **kwargs)\n",
    "    print \"Final Model: \"\n",
    "    print reg.fit(X, y)\n",
    "    \n",
    "    # Use the model to predict the output of a particular sample\n",
    "    x = [11.95, 0.00, 18.100, 0, 0.6590, 5.6090, 90.00, 1.385, 24, 680.0, 20.20, 332.09, 12.13]\n",
    "    y = reg.predict(x)\n",
    "    print \"House: \" + str(x)\n",
    "    print \"Prediction: \" + str(y)\n",
    "\n",
    "def main():\n",
    "    \"\"\"Analyze the Boston housing data. Evaluate and validate the\n",
    "    performanance of a Decision Tree regressor on the housing data.\n",
    "    Fine tune the model to make prediction on unseen data.\"\"\"\n",
    "\n",
    "    # Load data\n",
    "    city_data = load_data()\n",
    "\n",
    "    # Explore the data\n",
    "    explore_city_data(city_data)\n",
    "\n",
    "    # Training/Test dataset split\n",
    "    X_train, y_train, X_test, y_test = split_data(city_data)\n",
    "\n",
    "    # Learning Curve Graphs\n",
    "    max_depths = [1,2,3,4,5,6,7,8,9,10]\n",
    "    for max_depth in max_depths:\n",
    "        learning_curve(max_depth, X_train, y_train, X_test, y_test)\n",
    "\n",
    "    # Model Complexity Graph\n",
    "    model_complexity(X_train, y_train, X_test, y_test)\n",
    "\n",
    "    # Tune and predict Model\n",
    "    fit_predict_model(city_data)\n",
    "    \n",
    "if __name__ == '__main__':\n",
    "    main()\n",
    "    \n",
    "    "
   ]
  },
  {
   "cell_type": "code",
   "execution_count": null,
   "metadata": {
    "collapsed": true
   },
   "outputs": [],
   "source": []
  }
 ],
 "metadata": {
  "kernelspec": {
   "display_name": "Python 2",
   "language": "python",
   "name": "python2"
  },
  "language_info": {
   "codemirror_mode": {
    "name": "ipython",
    "version": 2
   },
   "file_extension": ".py",
   "mimetype": "text/x-python",
   "name": "python",
   "nbconvert_exporter": "python",
   "pygments_lexer": "ipython2",
   "version": "2.7.10"
  }
 },
 "nbformat": 4,
 "nbformat_minor": 0
}
