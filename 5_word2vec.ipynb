{
 "cells": [
  {
   "cell_type": "markdown",
   "metadata": {
    "colab_type": "text",
    "id": "D7tqLMoKF6uq"
   },
   "source": [
    "Deep Learning\n",
    "=============\n",
    "\n",
    "Assignment 5\n",
    "------------\n",
    "\n",
    "The goal of this assignment is to train a Word2Vec skip-gram model over [Text8](http://mattmahoney.net/dc/textdata) data."
   ]
  },
  {
   "cell_type": "code",
   "execution_count": 1,
   "metadata": {
    "cellView": "both",
    "colab": {
     "autoexec": {
      "startup": false,
      "wait_interval": 0
     }
    },
    "colab_type": "code",
    "collapsed": false,
    "id": "0K1ZyLn04QZf"
   },
   "outputs": [],
   "source": [
    "# These are all the modules we'll be using later. Make sure you can import them\n",
    "# before proceeding further.\n",
    "%matplotlib inline\n",
    "from __future__ import print_function\n",
    "import collections\n",
    "import math\n",
    "import numpy as np\n",
    "import os\n",
    "import random\n",
    "import tensorflow as tf\n",
    "import zipfile\n",
    "from matplotlib import pylab\n",
    "from six.moves import range\n",
    "from six.moves.urllib.request import urlretrieve\n",
    "from sklearn.manifold import TSNE\n",
    "from sklearn.decomposition import PCA"
   ]
  },
  {
   "cell_type": "markdown",
   "metadata": {
    "colab_type": "text",
    "id": "aCjPJE944bkV"
   },
   "source": [
    "Download the data from the source website if necessary."
   ]
  },
  {
   "cell_type": "code",
   "execution_count": 2,
   "metadata": {
    "cellView": "both",
    "colab": {
     "autoexec": {
      "startup": false,
      "wait_interval": 0
     },
     "output_extras": [
      {
       "item_id": 1
      }
     ]
    },
    "colab_type": "code",
    "collapsed": false,
    "executionInfo": {
     "elapsed": 14640,
     "status": "ok",
     "timestamp": 1445964482948,
     "user": {
      "color": "#1FA15D",
      "displayName": "Vincent Vanhoucke",
      "isAnonymous": false,
      "isMe": true,
      "permissionId": "05076109866853157986",
      "photoUrl": "//lh6.googleusercontent.com/-cCJa7dTDcgQ/AAAAAAAAAAI/AAAAAAAACgw/r2EZ_8oYer4/s50-c-k-no/photo.jpg",
      "sessionId": "2f1ffade4c9f20de",
      "userId": "102167687554210253930"
     },
     "user_tz": 420
    },
    "id": "RJ-o3UBUFtCw",
    "outputId": "c4ec222c-80b5-4298-e635-93ca9f79c3b7"
   },
   "outputs": [
    {
     "name": "stdout",
     "output_type": "stream",
     "text": [
      "Found and verified text8.zip\n"
     ]
    }
   ],
   "source": [
    "url = 'http://mattmahoney.net/dc/'\n",
    "\n",
    "def maybe_download(filename, expected_bytes):\n",
    "  \"\"\"Download a file if not present, and make sure it's the right size.\"\"\"\n",
    "  if not os.path.exists(filename):\n",
    "    filename, _ = urlretrieve(url + filename, filename)\n",
    "  statinfo = os.stat(filename)\n",
    "  if statinfo.st_size == expected_bytes:\n",
    "    print('Found and verified %s' % filename)\n",
    "  else:\n",
    "    print(statinfo.st_size)\n",
    "    raise Exception(\n",
    "      'Failed to verify ' + filename + '. Can you get to it with a browser?')\n",
    "  return filename\n",
    "\n",
    "filename = maybe_download('text8.zip', 31344016)"
   ]
  },
  {
   "cell_type": "markdown",
   "metadata": {
    "colab_type": "text",
    "id": "Zqz3XiqI4mZT"
   },
   "source": [
    "Read the data into a string."
   ]
  },
  {
   "cell_type": "code",
   "execution_count": 4,
   "metadata": {
    "cellView": "both",
    "colab": {
     "autoexec": {
      "startup": false,
      "wait_interval": 0
     },
     "output_extras": [
      {
       "item_id": 1
      }
     ]
    },
    "colab_type": "code",
    "collapsed": false,
    "executionInfo": {
     "elapsed": 28844,
     "status": "ok",
     "timestamp": 1445964497165,
     "user": {
      "color": "#1FA15D",
      "displayName": "Vincent Vanhoucke",
      "isAnonymous": false,
      "isMe": true,
      "permissionId": "05076109866853157986",
      "photoUrl": "//lh6.googleusercontent.com/-cCJa7dTDcgQ/AAAAAAAAAAI/AAAAAAAACgw/r2EZ_8oYer4/s50-c-k-no/photo.jpg",
      "sessionId": "2f1ffade4c9f20de",
      "userId": "102167687554210253930"
     },
     "user_tz": 420
    },
    "id": "Mvf09fjugFU_",
    "outputId": "e3a928b4-1645-4fe8-be17-fcf47de5716d"
   },
   "outputs": [
    {
     "name": "stdout",
     "output_type": "stream",
     "text": [
      "Data size 17005207\n"
     ]
    }
   ],
   "source": [
    "def read_data(filename):\n",
    "  \"\"\"Extract the first file enclosed in a zip file as a list of words\"\"\"\n",
    "  with zipfile.ZipFile(filename) as f:\n",
    "    data = tf.compat.as_str(f.read(f.namelist()[0])).split()\n",
    "  return data\n",
    "  \n",
    "words = read_data(filename)\n",
    "print('Data size %d' % len(words))"
   ]
  },
  {
   "cell_type": "markdown",
   "metadata": {
    "colab_type": "text",
    "id": "Zdw6i4F8glpp"
   },
   "source": [
    "Build the dictionary and replace rare words with UNK token."
   ]
  },
  {
   "cell_type": "code",
   "execution_count": 5,
   "metadata": {
    "cellView": "both",
    "colab": {
     "autoexec": {
      "startup": false,
      "wait_interval": 0
     },
     "output_extras": [
      {
       "item_id": 1
      }
     ]
    },
    "colab_type": "code",
    "collapsed": false,
    "executionInfo": {
     "elapsed": 28849,
     "status": "ok",
     "timestamp": 1445964497178,
     "user": {
      "color": "#1FA15D",
      "displayName": "Vincent Vanhoucke",
      "isAnonymous": false,
      "isMe": true,
      "permissionId": "05076109866853157986",
      "photoUrl": "//lh6.googleusercontent.com/-cCJa7dTDcgQ/AAAAAAAAAAI/AAAAAAAACgw/r2EZ_8oYer4/s50-c-k-no/photo.jpg",
      "sessionId": "2f1ffade4c9f20de",
      "userId": "102167687554210253930"
     },
     "user_tz": 420
    },
    "id": "gAL1EECXeZsD",
    "outputId": "3fb4ecd1-df67-44b6-a2dc-2291730970b2"
   },
   "outputs": [
    {
     "name": "stdout",
     "output_type": "stream",
     "text": [
      "Most common words (+UNK) [['UNK', 418391], ('the', 1061396), ('of', 593677), ('and', 416629), ('one', 411764)]\n",
      "Sample data [5239, 3084, 12, 6, 195, 2, 3137, 46, 59, 156]\n"
     ]
    }
   ],
   "source": [
    "vocabulary_size = 50000\n",
    "\n",
    "def build_dataset(words):\n",
    "  count = [['UNK', -1]]\n",
    "  count.extend(collections.Counter(words).most_common(vocabulary_size - 1))\n",
    "  dictionary = dict()\n",
    "  for word, _ in count:\n",
    "    dictionary[word] = len(dictionary)\n",
    "  data = list()\n",
    "  unk_count = 0\n",
    "  for word in words:\n",
    "    if word in dictionary:\n",
    "      index = dictionary[word]\n",
    "    else:\n",
    "      index = 0  # dictionary['UNK']\n",
    "      unk_count = unk_count + 1\n",
    "    data.append(index)\n",
    "  count[0][1] = unk_count\n",
    "  reverse_dictionary = dict(zip(dictionary.values(), dictionary.keys())) \n",
    "  return data, count, dictionary, reverse_dictionary\n",
    "\n",
    "data, count, dictionary, reverse_dictionary = build_dataset(words)\n",
    "print('Most common words (+UNK)', count[:5])\n",
    "print('Sample data', data[:10])\n",
    "del words  # Hint to reduce memory."
   ]
  },
  {
   "cell_type": "code",
   "execution_count": 6,
   "metadata": {
    "collapsed": false
   },
   "outputs": [
    {
     "name": "stdout",
     "output_type": "stream",
     "text": [
      "[5239, 3084, 12, 6, 195, 2, 3137, 46, 59, 156]\n",
      "[['UNK', 418391], ('the', 1061396), ('of', 593677), ('and', 416629), ('one', 411764), ('in', 372201), ('a', 325873), ('to', 316376), ('zero', 264975), ('nine', 250430)]\n",
      "[('fawn', 45848), ('homomorphism', 9648), ('nordisk', 39343), ('nunnery', 36075), ('chthonic', 33554), ('sowell', 40562), ('sonja', 38175), ('showa', 32906), ('woods', 6263), ('hsv', 44222)]\n",
      "[(0, 'UNK'), (1, 'the'), (2, 'of'), (3, 'and'), (4, 'one'), (5, 'in'), (6, 'a'), (7, 'to'), (8, 'zero'), (9, 'nine')]\n"
     ]
    }
   ],
   "source": [
    "print (data[:10])\n",
    "print(count[:10])\n",
    "print (dictionary.items()[:10])\n",
    "print (reverse_dictionary.items()[:10])"
   ]
  },
  {
   "cell_type": "markdown",
   "metadata": {
    "colab_type": "text",
    "id": "lFwoyygOmWsL"
   },
   "source": [
    "Function to generate a training batch for the skip-gram model."
   ]
  },
  {
   "cell_type": "code",
   "execution_count": 12,
   "metadata": {
    "cellView": "both",
    "colab": {
     "autoexec": {
      "startup": false,
      "wait_interval": 0
     },
     "output_extras": [
      {
       "item_id": 1
      }
     ]
    },
    "colab_type": "code",
    "collapsed": false,
    "executionInfo": {
     "elapsed": 113,
     "status": "ok",
     "timestamp": 1445964901989,
     "user": {
      "color": "#1FA15D",
      "displayName": "Vincent Vanhoucke",
      "isAnonymous": false,
      "isMe": true,
      "permissionId": "05076109866853157986",
      "photoUrl": "//lh6.googleusercontent.com/-cCJa7dTDcgQ/AAAAAAAAAAI/AAAAAAAACgw/r2EZ_8oYer4/s50-c-k-no/photo.jpg",
      "sessionId": "2f1ffade4c9f20de",
      "userId": "102167687554210253930"
     },
     "user_tz": 420
    },
    "id": "w9APjA-zmfjV",
    "outputId": "67cccb02-cdaf-4e47-d489-43bcc8d57bb8"
   },
   "outputs": [
    {
     "name": "stdout",
     "output_type": "stream",
     "text": [
      "data: ['anarchism', 'originated', 'as', 'a', 'term', 'of', 'abuse', 'first']\n",
      "\n",
      "with num_skips = 2 and skip_window = 1:\n",
      "    batch: ['originated', 'originated', 'as', 'as', 'a', 'a', 'term', 'term']\n",
      "    labels: ['as', 'anarchism', 'a', 'originated', 'as', 'term', 'a', 'of']\n",
      "\n",
      "with num_skips = 4 and skip_window = 2:\n",
      "    batch: ['as', 'as', 'as', 'as', 'a', 'a', 'a', 'a']\n",
      "    labels: ['anarchism', 'a', 'term', 'originated', 'originated', 'of', 'term', 'as']\n"
     ]
    }
   ],
   "source": [
    "data_index = 0\n",
    "\n",
    "def generate_batch(batch_size, num_skips, skip_window):\n",
    "  global data_index\n",
    "  assert batch_size % num_skips == 0\n",
    "  assert num_skips <= 2 * skip_window\n",
    "  batch = np.ndarray(shape=(batch_size), dtype=np.int32)\n",
    "  labels = np.ndarray(shape=(batch_size, 1), dtype=np.int32)\n",
    "  span = 2 * skip_window + 1 # [ skip_window target skip_window ]\n",
    "  buffer = collections.deque(maxlen=span)\n",
    "  for _ in range(span):\n",
    "    buffer.append(data[data_index])\n",
    "    data_index = (data_index + 1) % len(data)\n",
    "  for i in range(batch_size // num_skips):\n",
    "    target = skip_window  # target label at the center of the buffer\n",
    "    targets_to_avoid = [ skip_window ]\n",
    "    for j in range(num_skips):\n",
    "      while target in targets_to_avoid:\n",
    "        target = random.randint(0, span - 1)\n",
    "      targets_to_avoid.append(target)\n",
    "      batch[i * num_skips + j] = buffer[skip_window]\n",
    "      labels[i * num_skips + j, 0] = buffer[target]\n",
    "    buffer.append(data[data_index])\n",
    "    data_index = (data_index + 1) % len(data)\n",
    "  return batch, labels\n",
    "\n",
    "print('data:', [reverse_dictionary[di] for di in data[:8]])\n",
    "\n",
    "for num_skips, skip_window in [(2, 1), (4, 2)]:\n",
    "    data_index = 0\n",
    "    batch, labels = generate_batch(batch_size=8, num_skips=num_skips, skip_window=skip_window)\n",
    "    print('\\nwith num_skips = %d and skip_window = %d:' % (num_skips, skip_window))\n",
    "    print('    batch:', [reverse_dictionary[bi] for bi in batch])\n",
    "    print('    labels:', [reverse_dictionary[li] for li in labels.reshape(8)])"
   ]
  },
  {
   "cell_type": "code",
   "execution_count": 13,
   "metadata": {
    "collapsed": false
   },
   "outputs": [
    {
     "name": "stdout",
     "output_type": "stream",
     "text": [
      "[12 12 12 12  6  6  6  6]\n",
      "[[5239]\n",
      " [   6]\n",
      " [ 195]\n",
      " [3084]\n",
      " [3084]\n",
      " [   2]\n",
      " [ 195]\n",
      " [  12]]\n"
     ]
    }
   ],
   "source": [
    "print(batch)\n",
    "print(labels)"
   ]
  },
  {
   "cell_type": "markdown",
   "metadata": {
    "colab_type": "text",
    "id": "Ofd1MbBuwiva"
   },
   "source": [
    "Train a skip-gram model."
   ]
  },
  {
   "cell_type": "code",
   "execution_count": 14,
   "metadata": {
    "cellView": "both",
    "colab": {
     "autoexec": {
      "startup": false,
      "wait_interval": 0
     }
    },
    "colab_type": "code",
    "collapsed": true,
    "id": "8pQKsV4Vwlzy"
   },
   "outputs": [],
   "source": [
    "batch_size = 128\n",
    "embedding_size = 128 # Dimension of the embedding vector.\n",
    "skip_window = 1 # How many words to consider left and right.\n",
    "num_skips = 2 # How many times to reuse an input to generate a label.\n",
    "# We pick a random validation set to sample nearest neighbors. here we limit the\n",
    "# validation samples to the words that have a low numeric ID, which by\n",
    "# construction are also the most frequent. \n",
    "valid_size = 16 # Random set of words to evaluate similarity on.\n",
    "valid_window = 100 # Only pick dev samples in the head of the distribution.\n",
    "valid_examples = np.array(random.sample(range(valid_window), valid_size))\n",
    "num_sampled = 64 # Number of negative examples to sample.\n",
    "\n",
    "graph = tf.Graph()\n",
    "\n",
    "with graph.as_default(), tf.device('/cpu:0'):\n",
    "\n",
    "  # Input data.\n",
    "  train_dataset = tf.placeholder(tf.int32, shape=[batch_size])\n",
    "  train_labels = tf.placeholder(tf.int32, shape=[batch_size, 1])\n",
    "  valid_dataset = tf.constant(valid_examples, dtype=tf.int32)\n",
    "  \n",
    "  # Variables.\n",
    "  embeddings = tf.Variable(\n",
    "    tf.random_uniform([vocabulary_size, embedding_size], -1.0, 1.0))\n",
    "  softmax_weights = tf.Variable(\n",
    "    tf.truncated_normal([vocabulary_size, embedding_size],\n",
    "                         stddev=1.0 / math.sqrt(embedding_size)))\n",
    "  softmax_biases = tf.Variable(tf.zeros([vocabulary_size]))\n",
    "  \n",
    "  # Model.\n",
    "  # Look up embeddings for inputs.\n",
    "  embed = tf.nn.embedding_lookup(embeddings, train_dataset)\n",
    "  # Compute the softmax loss, using a sample of the negative labels each time.\n",
    "  loss = tf.reduce_mean(\n",
    "    tf.nn.sampled_softmax_loss(softmax_weights, softmax_biases, embed,\n",
    "                               train_labels, num_sampled, vocabulary_size))\n",
    "\n",
    "  # Optimizer.\n",
    "  # Note: The optimizer will optimize the softmax_weights AND the embeddings.\n",
    "  # This is because the embeddings are defined as a variable quantity and the\n",
    "  # optimizer's `minimize` method will by default modify all variable quantities \n",
    "  # that contribute to the tensor it is passed.\n",
    "  # See docs on `tf.train.Optimizer.minimize()` for more details.\n",
    "  optimizer = tf.train.AdagradOptimizer(1.0).minimize(loss)\n",
    "  \n",
    "  # Compute the similarity between minibatch examples and all embeddings.\n",
    "  # We use the cosine distance:\n",
    "  norm = tf.sqrt(tf.reduce_sum(tf.square(embeddings), 1, keep_dims=True))\n",
    "  normalized_embeddings = embeddings / norm\n",
    "  valid_embeddings = tf.nn.embedding_lookup(\n",
    "    normalized_embeddings, valid_dataset)\n",
    "  similarity = tf.matmul(valid_embeddings, tf.transpose(normalized_embeddings))"
   ]
  },
  {
   "cell_type": "code",
   "execution_count": 15,
   "metadata": {
    "cellView": "both",
    "colab": {
     "autoexec": {
      "startup": false,
      "wait_interval": 0
     },
     "output_extras": [
      {
       "item_id": 23
      },
      {
       "item_id": 48
      },
      {
       "item_id": 61
      }
     ]
    },
    "colab_type": "code",
    "collapsed": false,
    "executionInfo": {
     "elapsed": 436189,
     "status": "ok",
     "timestamp": 1445965429787,
     "user": {
      "color": "#1FA15D",
      "displayName": "Vincent Vanhoucke",
      "isAnonymous": false,
      "isMe": true,
      "permissionId": "05076109866853157986",
      "photoUrl": "//lh6.googleusercontent.com/-cCJa7dTDcgQ/AAAAAAAAAAI/AAAAAAAACgw/r2EZ_8oYer4/s50-c-k-no/photo.jpg",
      "sessionId": "2f1ffade4c9f20de",
      "userId": "102167687554210253930"
     },
     "user_tz": 420
    },
    "id": "1bQFGceBxrWW",
    "outputId": "5ebd6d9a-33c6-4bcd-bf6d-252b0b6055e4"
   },
   "outputs": [
    {
     "name": "stdout",
     "output_type": "stream",
     "text": [
      "Initialized\n",
      "Average loss at step 0: 7.869874\n",
      "Nearest to had: limerick, influenza, brokered, allowing, secrets, jameson, bibliographic, sperm,\n",
      "Nearest to use: hippocrates, metric, popularized, emphasizing, inspecting, kling, pacifica, uncommon,\n",
      "Nearest to has: heorot, moynihan, stair, successive, dawson, diabetics, borrower, lucasfilm,\n",
      "Nearest to th: blake, walla, pupil, data, homeostatic, armchair, basel, lasker,\n",
      "Nearest to than: rhodope, monolingual, monopolistic, capitulation, cloth, bat, mechanosynthesis, olives,\n",
      "Nearest to only: ostend, publius, dressed, codomain, gnaeus, pollen, q, sayfawa,\n",
      "Nearest to of: efficiency, brahms, zwingli, cumulative, titus, martial, waging, retail,\n",
      "Nearest to can: atsc, replete, elliptical, ballantine, withheld, boyfriend, collectivist, neberg,\n",
      "Nearest to who: michal, areas, gramophone, pathologist, misdemeanor, invention, indistinguishable, uncovered,\n",
      "Nearest to time: worldwide, tear, zooming, photographed, egyptologists, panacea, entrepot, wall,\n",
      "Nearest to over: divided, dormitories, complexion, imagined, near, tending, vocalizations, luanda,\n",
      "Nearest to three: lettering, fijian, guoyu, hawai, funk, ideals, geocaching, triggered,\n",
      "Nearest to i: wife, ltte, heavenly, layla, alchemical, anthropologist, athabasca, aai,\n",
      "Nearest to was: hydrochloride, deems, bayes, moonraker, barbie, dbms, cli, screen,\n",
      "Nearest to they: infuriated, graced, macrovision, tricolor, consistory, stallone, steppenwolf, gupta,\n",
      "Nearest to an: anacharsis, educators, alfa, bust, decry, bogside, turret, absorption,\n",
      "Average loss at step 2000: 4.352687\n",
      "Average loss at step 4000: 3.863711\n",
      "Average loss at step 6000: 3.788377\n",
      "Average loss at step 8000: 3.684796\n",
      "Average loss at step 10000: 3.612123\n",
      "Nearest to had: have, has, was, theologically, limerick, were, sperm, stallman,\n",
      "Nearest to use: popularized, asserting, metric, macrostate, forgery, crusader, painkillers, gaians,\n",
      "Nearest to has: had, was, is, have, heorot, princeto, promotion, surviving,\n",
      "Nearest to th: four, three, blake, data, meso, homeostatic, lasker, transmits,\n",
      "Nearest to than: or, olives, capitulation, accountants, veeck, ladies, monolingual, vectors,\n",
      "Nearest to only: q, pollen, bowled, ostend, resettle, quack, pejorative, fida,\n",
      "Nearest to of: in, medes, and, for, wheeling, official, esoteric, eurofighter,\n",
      "Nearest to can: could, will, may, would, atsc, hypothesizing, lugo, fortunately,\n",
      "Nearest to who: also, he, they, indistinguishable, pli, not, no, often,\n",
      "Nearest to time: worldwide, tear, man, hyperbola, egyptologists, window, puzzling, civilians,\n",
      "Nearest to over: complexion, divided, near, saturation, dormitories, nursultan, manuscript, imagined,\n",
      "Nearest to three: four, eight, two, seven, five, six, nine, zero,\n",
      "Nearest to i: wife, alchemical, ltte, bains, elder, heavenly, pagans, satires,\n",
      "Nearest to was: is, has, had, were, are, be, by, pitcher,\n",
      "Nearest to they: he, it, quo, who, there, bros, we, submersible,\n",
      "Nearest to an: anacharsis, the, bogside, trees, pol, bust, absorption, jul,\n",
      "Average loss at step 12000: 3.602195\n",
      "Average loss at step 14000: 3.570337\n",
      "Average loss at step 16000: 3.405681\n",
      "Average loss at step 18000: 3.454611\n",
      "Average loss at step 20000: 3.536729\n",
      "Nearest to had: has, have, was, were, theologically, limerick, khan, imaged,\n",
      "Nearest to use: popularized, metric, painkillers, death, asserting, fulgencio, counternarcotics, ffg,\n",
      "Nearest to has: had, was, is, have, princeto, townhouse, stair, rupees,\n",
      "Nearest to th: eight, meso, three, blake, homeostatic, zee, uncontrollably, data,\n",
      "Nearest to than: or, olives, veeck, mandolin, cloth, spectra, vectors, ladies,\n",
      "Nearest to only: bowled, pollen, always, q, cultivate, uncommon, heather, encounters,\n",
      "Nearest to of: kanem, for, medes, lactose, andante, in, zwingli, kashubian,\n",
      "Nearest to can: may, could, will, would, must, should, atsc, ketone,\n",
      "Nearest to who: he, they, also, which, then, pli, often, indistinguishable,\n",
      "Nearest to time: worldwide, man, tear, defector, years, hyperbola, egyptologists, intramolecular,\n",
      "Nearest to over: complexion, dormitories, into, cc, nahuatl, disloyal, nursultan, matches,\n",
      "Nearest to three: four, seven, six, five, two, eight, zero, nine,\n",
      "Nearest to i: ii, we, henry, ortega, wife, ltte, alchemical, depopulated,\n",
      "Nearest to was: is, were, has, had, be, been, became, are,\n",
      "Nearest to they: he, there, it, we, who, electrodes, she, quo,\n",
      "Nearest to an: anacharsis, pol, bogside, lombardi, bust, trees, absorption, aspirin,\n",
      "Average loss at step 22000: 3.501682\n",
      "Average loss at step 24000: 3.488458\n",
      "Average loss at step 26000: 3.482130\n",
      "Average loss at step 28000: 3.478079\n",
      "Average loss at step 30000: 3.502411\n",
      "Nearest to had: have, has, was, were, having, theologically, decided, been,\n",
      "Nearest to use: painkillers, ffg, fulgencio, animistic, sensation, popularized, sign, metric,\n",
      "Nearest to has: had, have, is, was, princeto, monterey, stair, reintroduce,\n",
      "Nearest to th: rd, six, zee, homeostatic, seven, acetaldehyde, ragtime, uncontrollably,\n",
      "Nearest to than: or, vectors, much, veeck, olives, mandolin, legions, cloth,\n",
      "Nearest to only: instrumental, juggernaut, uncommon, resistances, february, always, charenton, reflecting,\n",
      "Nearest to of: in, from, zwingli, and, for, including, retail, repertory,\n",
      "Nearest to can: may, could, will, would, must, should, might, cannot,\n",
      "Nearest to who: he, they, also, often, which, indistinguishable, pli, discriminated,\n",
      "Nearest to time: worldwide, years, intramolecular, tear, day, protocols, reincarnation, thereafter,\n",
      "Nearest to over: into, nahuatl, complexion, towards, cc, dormitories, manuscript, matches,\n",
      "Nearest to three: four, five, seven, two, eight, six, nine, zero,\n",
      "Nearest to i: ii, we, henry, ortega, she, tiberias, cryptologia, bains,\n",
      "Nearest to was: is, had, were, has, been, became, be, after,\n",
      "Nearest to they: there, we, he, it, who, electrodes, not, you,\n",
      "Nearest to an: anacharsis, pol, bogside, debates, absorption, microscopy, incl, bust,\n",
      "Average loss at step 32000: 3.505599\n",
      "Average loss at step 34000: 3.487000\n",
      "Average loss at step 36000: 3.452455\n",
      "Average loss at step 38000: 3.300816\n",
      "Average loss at step 40000: 3.422933\n",
      "Nearest to had: has, have, was, were, theologically, stallman, laundry, having,\n",
      "Nearest to use: ffg, painkillers, sensation, sign, popularized, counternarcotics, cgpm, agree,\n",
      "Nearest to has: had, have, was, is, princeto, reintroduce, wodehouse, monterey,\n",
      "Nearest to th: rd, zee, five, seven, uncontrollably, homeostatic, nd, ragtime,\n",
      "Nearest to than: or, much, vectors, ulster, utilizing, olives, but, veeck,\n",
      "Nearest to only: juggernaut, uncommon, instrumental, evaporates, always, never, resistances, combine,\n",
      "Nearest to of: in, cumulative, from, original, for, medes, antofagasta, cholesterol,\n",
      "Nearest to can: may, will, could, would, must, should, cannot, might,\n",
      "Nearest to who: he, often, pli, also, they, which, usually, discriminated,\n",
      "Nearest to time: day, years, year, period, intramolecular, worldwide, way, thereafter,\n",
      "Nearest to over: towards, cc, complexion, about, into, broadcast, overtraining, manuscript,\n",
      "Nearest to three: four, seven, five, six, two, eight, nine, zero,\n",
      "Nearest to i: we, ii, you, they, t, wco, she, it,\n",
      "Nearest to was: is, became, has, had, were, be, been, does,\n",
      "Nearest to they: we, there, he, you, it, she, electrodes, these,\n",
      "Nearest to an: anacharsis, pol, legalism, harvey, bogside, strapped, benford, thomson,\n",
      "Average loss at step 42000: 3.437157\n",
      "Average loss at step 44000: 3.452487\n",
      "Average loss at step 46000: 3.456269\n",
      "Average loss at step 48000: 3.353275\n",
      "Average loss at step 50000: 3.384054\n",
      "Nearest to had: has, have, was, were, theologically, began, having, permanently,\n",
      "Nearest to use: sign, ffg, animistic, painkillers, sensation, counternarcotics, theme, cgpm,\n",
      "Nearest to has: had, have, was, is, princeto, monterey, deformities, since,\n",
      "Nearest to th: rd, bc, eight, three, twentieth, ad, six, zee,\n",
      "Nearest to than: much, or, vectors, olives, far, veeck, but, energetically,\n",
      "Nearest to only: always, juggernaut, generally, puts, all, combine, never, uncommon,\n",
      "Nearest to of: in, hyllus, and, medes, judicial, plus, johore, cumulative,\n",
      "Nearest to can: may, could, will, would, must, should, might, cannot,\n",
      "Nearest to who: he, which, they, often, pli, still, also, usually,\n",
      "Nearest to time: year, way, period, day, years, intramolecular, spitting, concede,\n",
      "Nearest to over: towards, overtraining, complexion, into, demarcation, manuscript, off, cc,\n",
      "Nearest to three: four, six, seven, eight, two, five, nine, zero,\n",
      "Nearest to i: ii, we, you, acronyms, wco, t, pancras, disembodied,\n",
      "Nearest to was: is, has, were, became, had, be, been, being,\n",
      "Nearest to they: he, there, we, you, she, it, electrodes, dysrhythmias,\n",
      "Nearest to an: anacharsis, pol, dooley, fraternity, bogside, microscopy, questionnaire, haart,\n",
      "Average loss at step 52000: 3.435141\n",
      "Average loss at step 54000: 3.424125\n",
      "Average loss at step 56000: 3.439501\n",
      "Average loss at step 58000: 3.393333\n",
      "Average loss at step 60000: 3.391160\n",
      "Nearest to had: has, have, was, were, having, yet, did, began,\n",
      "Nearest to use: sign, sensation, ffg, theme, painkillers, cgpm, number, popularized,\n",
      "Nearest to has: had, have, was, is, princeto, monterey, having, gradient,\n",
      "Nearest to th: rd, bc, six, seven, twentieth, ad, nd, five,\n",
      "Nearest to than: or, much, but, far, aalen, veeck, and, olives,\n",
      "Nearest to only: always, never, actually, explicitly, until, uncommon, first, still,\n",
      "Nearest to of: in, for, including, wuthering, detonating, same, gerardo, and,\n",
      "Nearest to can: may, could, will, would, must, should, might, cannot,\n",
      "Nearest to who: he, still, which, usually, often, pli, they, she,\n",
      "Nearest to time: period, stonework, day, spitting, year, way, intramolecular, reincarnation,\n",
      "Nearest to over: around, into, towards, about, demarcation, overtraining, through, complexion,\n",
      "Nearest to three: five, four, six, seven, eight, two, nine, zero,\n",
      "Nearest to i: we, you, ii, t, acronyms, they, he, she,\n",
      "Nearest to was: is, had, became, were, has, immense, be, observing,\n",
      "Nearest to they: we, there, you, he, she, dysrhythmias, electrodes, these,\n",
      "Nearest to an: anacharsis, microscopy, representations, bogside, haart, pol, the, absorption,\n",
      "Average loss at step 62000: 3.241335\n",
      "Average loss at step 64000: 3.256382\n",
      "Average loss at step 66000: 3.404563\n",
      "Average loss at step 68000: 3.398538\n",
      "Average loss at step 70000: 3.360562\n",
      "Nearest to had: has, have, was, were, been, theologically, having, tried,\n",
      "Nearest to use: ffg, kestrel, cgpm, sign, popularized, most, ashanti, form,\n",
      "Nearest to has: had, have, was, is, since, monterey, princeto, gradient,\n",
      "Nearest to th: rd, bc, ad, nd, bce, six, seven, twentieth,\n",
      "Nearest to than: or, and, veeck, aalen, energetically, much, but, nssdc,\n",
      "Nearest to only: always, still, actually, never, gnaeus, explicitly, planning, mathematica,\n",
      "Nearest to of: including, for, janis, cumulative, and, original, respective, like,\n",
      "Nearest to can: may, could, would, will, must, should, might, cannot,\n",
      "Nearest to who: he, pli, they, discriminated, still, often, which, she,\n",
      "Nearest to time: period, decade, reason, nls, way, stonework, dyskinesia, aq,\n",
      "Nearest to over: demarcation, around, about, overtraining, towards, off, archetypal, cc,\n",
      "Nearest to three: six, four, two, five, seven, eight, nine, zero,\n",
      "Nearest to i: we, you, ii, acronyms, g, pancras, they, satires,\n",
      "Nearest to was: is, has, had, were, became, been, be, immense,\n",
      "Nearest to they: we, there, he, you, she, it, dysrhythmias, then,\n",
      "Nearest to an: anacharsis, bogside, nascar, microscopy, the, dooley, absorption, haart,\n",
      "Average loss at step 72000: 3.370205\n",
      "Average loss at step 74000: 3.346866\n",
      "Average loss at step 76000: 3.314838\n",
      "Average loss at step 78000: 3.352665\n",
      "Average loss at step 80000: 3.376455\n",
      "Nearest to had: have, has, were, was, having, never, tried, began,\n",
      "Nearest to use: kestrel, sign, form, support, because, cgpm, sense, frazer,\n",
      "Nearest to has: had, have, is, princeto, was, copyrighted, since, monterey,\n",
      "Nearest to th: bc, rd, twentieth, bce, nd, ad, meters, six,\n",
      "Nearest to than: much, or, veeck, far, energetically, aalen, but, nssdc,\n",
      "Nearest to only: juggernaut, always, gnaeus, consistent, explicitly, actually, engage, uncommon,\n",
      "Nearest to of: in, including, scandinavian, original, although, php, voss, lustrous,\n",
      "Nearest to can: may, could, will, would, must, should, might, cannot,\n",
      "Nearest to who: he, often, still, usually, she, they, pli, discriminated,\n",
      "Nearest to time: period, spitting, decade, secretariat, aq, year, times, stonework,\n",
      "Nearest to over: around, overtraining, off, about, towards, demarcation, cc, across,\n",
      "Nearest to three: four, six, five, two, seven, eight, nine, zero,\n",
      "Nearest to i: we, ii, you, g, wco, they, quarks, iii,\n",
      "Nearest to was: is, became, were, has, had, be, been, being,\n",
      "Nearest to they: we, he, there, you, she, it, dysrhythmias, electrodes,\n",
      "Nearest to an: anacharsis, baptised, bogside, haart, questionnaire, nascar, dooley, leon,\n",
      "Average loss at step 82000: 3.407399\n",
      "Average loss at step 84000: 3.412271\n",
      "Average loss at step 86000: 3.388056\n",
      "Average loss at step 88000: 3.346026\n",
      "Average loss at step 90000: 3.368114\n",
      "Nearest to had: has, have, were, was, having, never, tried, decided,\n",
      "Nearest to use: adamic, sign, sense, kestrel, counterpoint, list, practice, theme,\n",
      "Nearest to has: had, have, is, was, since, monterey, princeto, sees,\n",
      "Nearest to th: bc, rd, seven, eight, one, twentieth, nd, bce,\n",
      "Nearest to than: aalen, much, or, veeck, far, energetically, no, legionnaire,\n",
      "Nearest to only: consistent, juggernaut, explicitly, no, gnaeus, even, always, uncommon,\n",
      "Nearest to of: including, for, in, voss, detonating, following, wuthering, respective,\n",
      "Nearest to can: may, will, could, must, would, should, might, cannot,\n",
      "Nearest to who: he, often, still, they, she, already, but, discriminated,\n",
      "Nearest to time: period, reason, decade, functionals, year, fruiting, intramolecular, years,\n",
      "Nearest to over: around, off, overtraining, about, towards, across, demarcation, within,\n",
      "Nearest to three: five, two, four, seven, eight, six, nine, zero,\n",
      "Nearest to i: we, you, ii, g, f, quarks, t, r,\n",
      "Nearest to was: is, had, became, were, has, be, been, immense,\n",
      "Nearest to they: we, he, there, you, she, it, electrodes, dysrhythmias,\n",
      "Nearest to an: anacharsis, bogside, dooley, haart, nascar, microscopy, pol, questionnaire,\n",
      "Average loss at step 92000: 3.396748\n",
      "Average loss at step 94000: 3.251498\n",
      "Average loss at step 96000: 3.363416\n",
      "Average loss at step 98000: 3.244498\n",
      "Average loss at step 100000: 3.352607\n",
      "Nearest to had: has, have, was, were, having, would, tried, never,\n",
      "Nearest to use: sense, painkillers, sign, adamic, cgpm, counterpoint, kestrel, hobbyists,\n",
      "Nearest to has: had, have, is, was, princeto, sees, copyrighted, since,\n",
      "Nearest to th: bc, rd, twentieth, nd, fourth, countermeasure, bce, third,\n",
      "Nearest to than: or, aalen, slightly, much, pol, fk, veeck, far,\n",
      "Nearest to only: actually, always, consistent, no, explicitly, juggernaut, still, indeed,\n",
      "Nearest to of: original, including, krieg, in, anthropos, featuring, respective, expelling,\n",
      "Nearest to can: may, could, must, will, would, should, cannot, might,\n",
      "Nearest to who: he, often, still, she, which, lecturers, already, and,\n",
      "Nearest to time: period, year, decade, reason, thing, functionals, power, times,\n",
      "Nearest to over: around, off, overtraining, about, enz, towards, across, cc,\n",
      "Nearest to three: two, four, five, six, seven, eight, nine, zero,\n",
      "Nearest to i: we, you, ii, they, t, quarks, g, v,\n",
      "Nearest to was: is, became, were, had, has, been, immense, be,\n",
      "Nearest to they: we, he, there, you, she, it, electrodes, humans,\n",
      "Nearest to an: anacharsis, haart, pol, bust, nascar, another, dooley, delft,\n"
     ]
    }
   ],
   "source": [
    "num_steps = 100001\n",
    "\n",
    "with tf.Session(graph=graph) as session:\n",
    "  tf.initialize_all_variables().run()\n",
    "  print('Initialized')\n",
    "  average_loss = 0\n",
    "  for step in range(num_steps):\n",
    "    batch_data, batch_labels = generate_batch(\n",
    "      batch_size, num_skips, skip_window)\n",
    "    feed_dict = {train_dataset : batch_data, train_labels : batch_labels}\n",
    "    _, l = session.run([optimizer, loss], feed_dict=feed_dict)\n",
    "    average_loss += l\n",
    "    if step % 2000 == 0:\n",
    "      if step > 0:\n",
    "        average_loss = average_loss / 2000\n",
    "      # The average loss is an estimate of the loss over the last 2000 batches.\n",
    "      print('Average loss at step %d: %f' % (step, average_loss))\n",
    "      average_loss = 0\n",
    "    # note that this is expensive (~20% slowdown if computed every 500 steps)\n",
    "    if step % 10000 == 0:\n",
    "      sim = similarity.eval()\n",
    "      for i in range(valid_size):\n",
    "        valid_word = reverse_dictionary[valid_examples[i]]\n",
    "        top_k = 8 # number of nearest neighbors\n",
    "        nearest = (-sim[i, :]).argsort()[1:top_k+1]\n",
    "        log = 'Nearest to %s:' % valid_word\n",
    "        for k in range(top_k):\n",
    "          close_word = reverse_dictionary[nearest[k]]\n",
    "          log = '%s %s,' % (log, close_word)\n",
    "        print(log)\n",
    "  final_embeddings = normalized_embeddings.eval()"
   ]
  },
  {
   "cell_type": "code",
   "execution_count": 16,
   "metadata": {
    "collapsed": false
   },
   "outputs": [
    {
     "name": "stdout",
     "output_type": "stream",
     "text": [
      "[ 0.04957704 -0.00935239 -0.03482648  0.13658789  0.09802509  0.04003066\n",
      " -0.03427966 -0.11947338 -0.00257639  0.04797913 -0.17898667  0.16393074\n",
      " -0.09294575 -0.12194595 -0.01969115 -0.06708843  0.18665941 -0.0945748\n",
      " -0.05431918  0.07078718  0.09057283  0.08904263  0.03931171  0.09122985\n",
      "  0.01538557  0.05677143 -0.05434792 -0.10664739 -0.15791111  0.02060051\n",
      " -0.00070572  0.09548661  0.05767886 -0.01909762 -0.04590311 -0.06087225\n",
      " -0.00125716 -0.00777674 -0.16539441 -0.16003275 -0.02706501  0.17205444\n",
      " -0.17088886 -0.06536841 -0.09751832 -0.00260178 -0.11260752 -0.09394874\n",
      "  0.01542356 -0.13820851 -0.16977665 -0.15730684  0.08377149  0.02993981\n",
      "  0.11216001  0.02589606  0.11101915 -0.04110657 -0.18830247 -0.15711842\n",
      "  0.0125581  -0.03217528  0.14491436 -0.046505   -0.03082417 -0.02359364\n",
      " -0.09511536  0.00440115  0.02960602 -0.11704035  0.03900418  0.06595466\n",
      " -0.1417536   0.00483769 -0.09909095 -0.16686407  0.09168314 -0.03132997\n",
      "  0.08676354 -0.05278311  0.06004701  0.01513004  0.00733313 -0.02628148\n",
      "  0.00972613  0.03856023  0.05529583  0.21785149  0.05219203 -0.0681851\n",
      "  0.00799949 -0.08346874  0.14115021  0.1344301   0.03406376  0.06810483\n",
      "  0.00485646 -0.02660152  0.02983607 -0.02002092 -0.1167429   0.17015438\n",
      " -0.06132377 -0.00926865 -0.00903209 -0.11417606 -0.01165074  0.01859755\n",
      "  0.09467038 -0.04503408  0.11169171  0.04944862  0.09396856 -0.10287166\n",
      "  0.06195686  0.03451344  0.0490413   0.03683263 -0.06522623 -0.05905198\n",
      "  0.04274441 -0.12009168  0.04644912  0.04580615  0.09379261 -0.00606765\n",
      "  0.01342166 -0.06737294]\n"
     ]
    }
   ],
   "source": [
    "print(final_embeddings[0])"
   ]
  },
  {
   "cell_type": "code",
   "execution_count": 17,
   "metadata": {
    "collapsed": false
   },
   "outputs": [
    {
     "name": "stdout",
     "output_type": "stream",
     "text": [
      "1.0\n"
     ]
    }
   ],
   "source": [
    "print(np.sum(np.square(final_embeddings[0])))"
   ]
  },
  {
   "cell_type": "code",
   "execution_count": 23,
   "metadata": {
    "cellView": "both",
    "colab": {
     "autoexec": {
      "startup": false,
      "wait_interval": 0
     }
    },
    "colab_type": "code",
    "collapsed": false,
    "id": "jjJXYA_XzV79"
   },
   "outputs": [
    {
     "ename": "ValueError",
     "evalue": "array must not contain infs or NaNs",
     "output_type": "error",
     "traceback": [
      "\u001b[0;31m---------------------------------------------------------------------------\u001b[0m",
      "\u001b[0;31mValueError\u001b[0m                                Traceback (most recent call last)",
      "\u001b[0;32m<ipython-input-23-f70c03698d67>\u001b[0m in \u001b[0;36m<module>\u001b[0;34m()\u001b[0m\n\u001b[1;32m      2\u001b[0m \u001b[0;34m\u001b[0m\u001b[0m\n\u001b[1;32m      3\u001b[0m \u001b[0mtsne\u001b[0m \u001b[0;34m=\u001b[0m \u001b[0mTSNE\u001b[0m\u001b[0;34m(\u001b[0m\u001b[0mperplexity\u001b[0m\u001b[0;34m=\u001b[0m\u001b[0;36m30\u001b[0m\u001b[0;34m,\u001b[0m \u001b[0mn_components\u001b[0m\u001b[0;34m=\u001b[0m\u001b[0;36m2\u001b[0m\u001b[0;34m,\u001b[0m \u001b[0minit\u001b[0m\u001b[0;34m=\u001b[0m\u001b[0;34m'pca'\u001b[0m\u001b[0;34m,\u001b[0m \u001b[0mn_iter\u001b[0m\u001b[0;34m=\u001b[0m\u001b[0;36m5000\u001b[0m\u001b[0;34m)\u001b[0m\u001b[0;34m\u001b[0m\u001b[0m\n\u001b[0;32m----> 4\u001b[0;31m \u001b[0mtwo_d_embeddings\u001b[0m \u001b[0;34m=\u001b[0m \u001b[0mtsne\u001b[0m\u001b[0;34m.\u001b[0m\u001b[0mfit_transform\u001b[0m\u001b[0;34m(\u001b[0m\u001b[0mfinal_embeddings\u001b[0m\u001b[0;34m[\u001b[0m\u001b[0;36m1\u001b[0m\u001b[0;34m:\u001b[0m\u001b[0mnum_points\u001b[0m\u001b[0;34m+\u001b[0m\u001b[0;36m1\u001b[0m\u001b[0;34m,\u001b[0m \u001b[0;34m:\u001b[0m\u001b[0;34m]\u001b[0m\u001b[0;34m)\u001b[0m\u001b[0;34m\u001b[0m\u001b[0m\n\u001b[0m",
      "\u001b[0;32m/Users/jayden/anaconda/lib/python2.7/site-packages/sklearn/manifold/t_sne.pyc\u001b[0m in \u001b[0;36mfit_transform\u001b[0;34m(self, X, y)\u001b[0m\n\u001b[1;32m    864\u001b[0m             \u001b[0mEmbedding\u001b[0m \u001b[0mof\u001b[0m \u001b[0mthe\u001b[0m \u001b[0mtraining\u001b[0m \u001b[0mdata\u001b[0m \u001b[0;32min\u001b[0m \u001b[0mlow\u001b[0m\u001b[0;34m-\u001b[0m\u001b[0mdimensional\u001b[0m \u001b[0mspace\u001b[0m\u001b[0;34m.\u001b[0m\u001b[0;34m\u001b[0m\u001b[0m\n\u001b[1;32m    865\u001b[0m         \"\"\"\n\u001b[0;32m--> 866\u001b[0;31m         \u001b[0membedding\u001b[0m \u001b[0;34m=\u001b[0m \u001b[0mself\u001b[0m\u001b[0;34m.\u001b[0m\u001b[0m_fit\u001b[0m\u001b[0;34m(\u001b[0m\u001b[0mX\u001b[0m\u001b[0;34m)\u001b[0m\u001b[0;34m\u001b[0m\u001b[0m\n\u001b[0m\u001b[1;32m    867\u001b[0m         \u001b[0mself\u001b[0m\u001b[0;34m.\u001b[0m\u001b[0membedding_\u001b[0m \u001b[0;34m=\u001b[0m \u001b[0membedding\u001b[0m\u001b[0;34m\u001b[0m\u001b[0m\n\u001b[1;32m    868\u001b[0m         \u001b[0;32mreturn\u001b[0m \u001b[0mself\u001b[0m\u001b[0;34m.\u001b[0m\u001b[0membedding_\u001b[0m\u001b[0;34m\u001b[0m\u001b[0m\n",
      "\u001b[0;32m/Users/jayden/anaconda/lib/python2.7/site-packages/sklearn/manifold/t_sne.pyc\u001b[0m in \u001b[0;36m_fit\u001b[0;34m(self, X, skip_num_points)\u001b[0m\n\u001b[1;32m    775\u001b[0m                           \u001b[0mX_embedded\u001b[0m\u001b[0;34m=\u001b[0m\u001b[0mX_embedded\u001b[0m\u001b[0;34m,\u001b[0m\u001b[0;34m\u001b[0m\u001b[0m\n\u001b[1;32m    776\u001b[0m                           \u001b[0mneighbors\u001b[0m\u001b[0;34m=\u001b[0m\u001b[0mneighbors_nn\u001b[0m\u001b[0;34m,\u001b[0m\u001b[0;34m\u001b[0m\u001b[0m\n\u001b[0;32m--> 777\u001b[0;31m                           skip_num_points=skip_num_points)\n\u001b[0m\u001b[1;32m    778\u001b[0m \u001b[0;34m\u001b[0m\u001b[0m\n\u001b[1;32m    779\u001b[0m     def _tsne(self, P, degrees_of_freedom, n_samples, random_state,\n",
      "\u001b[0;32m/Users/jayden/anaconda/lib/python2.7/site-packages/sklearn/manifold/t_sne.pyc\u001b[0m in \u001b[0;36m_tsne\u001b[0;34m(self, P, degrees_of_freedom, n_samples, random_state, X_embedded, neighbors, skip_num_points)\u001b[0m\n\u001b[1;32m    830\u001b[0m         \u001b[0mopt_args\u001b[0m\u001b[0;34m[\u001b[0m\u001b[0;34m'momentum'\u001b[0m\u001b[0;34m]\u001b[0m \u001b[0;34m=\u001b[0m \u001b[0;36m0.8\u001b[0m\u001b[0;34m\u001b[0m\u001b[0m\n\u001b[1;32m    831\u001b[0m         \u001b[0mopt_args\u001b[0m\u001b[0;34m[\u001b[0m\u001b[0;34m'it'\u001b[0m\u001b[0;34m]\u001b[0m \u001b[0;34m=\u001b[0m \u001b[0mit\u001b[0m \u001b[0;34m+\u001b[0m \u001b[0;36m1\u001b[0m\u001b[0;34m\u001b[0m\u001b[0m\n\u001b[0;32m--> 832\u001b[0;31m         \u001b[0mparams\u001b[0m\u001b[0;34m,\u001b[0m \u001b[0merror\u001b[0m\u001b[0;34m,\u001b[0m \u001b[0mit\u001b[0m \u001b[0;34m=\u001b[0m \u001b[0m_gradient_descent\u001b[0m\u001b[0;34m(\u001b[0m\u001b[0mobj_func\u001b[0m\u001b[0;34m,\u001b[0m \u001b[0mparams\u001b[0m\u001b[0;34m,\u001b[0m \u001b[0;34m**\u001b[0m\u001b[0mopt_args\u001b[0m\u001b[0;34m)\u001b[0m\u001b[0;34m\u001b[0m\u001b[0m\n\u001b[0m\u001b[1;32m    833\u001b[0m         \u001b[0;32mif\u001b[0m \u001b[0mself\u001b[0m\u001b[0;34m.\u001b[0m\u001b[0mverbose\u001b[0m\u001b[0;34m:\u001b[0m\u001b[0;34m\u001b[0m\u001b[0m\n\u001b[1;32m    834\u001b[0m             print(\"[t-SNE] Error after %d iterations with early \"\n",
      "\u001b[0;32m/Users/jayden/anaconda/lib/python2.7/site-packages/sklearn/manifold/t_sne.pyc\u001b[0m in \u001b[0;36m_gradient_descent\u001b[0;34m(objective, p0, it, n_iter, objective_error, n_iter_check, n_iter_without_progress, momentum, learning_rate, min_gain, min_grad_norm, min_error_diff, verbose, args, kwargs)\u001b[0m\n\u001b[1;32m    385\u001b[0m     \u001b[0;32mfor\u001b[0m \u001b[0mi\u001b[0m \u001b[0;32min\u001b[0m \u001b[0mrange\u001b[0m\u001b[0;34m(\u001b[0m\u001b[0mit\u001b[0m\u001b[0;34m,\u001b[0m \u001b[0mn_iter\u001b[0m\u001b[0;34m)\u001b[0m\u001b[0;34m:\u001b[0m\u001b[0;34m\u001b[0m\u001b[0m\n\u001b[1;32m    386\u001b[0m         \u001b[0mnew_error\u001b[0m\u001b[0;34m,\u001b[0m \u001b[0mgrad\u001b[0m \u001b[0;34m=\u001b[0m \u001b[0mobjective\u001b[0m\u001b[0;34m(\u001b[0m\u001b[0mp\u001b[0m\u001b[0;34m,\u001b[0m \u001b[0;34m*\u001b[0m\u001b[0margs\u001b[0m\u001b[0;34m,\u001b[0m \u001b[0;34m**\u001b[0m\u001b[0mkwargs\u001b[0m\u001b[0;34m)\u001b[0m\u001b[0;34m\u001b[0m\u001b[0m\n\u001b[0;32m--> 387\u001b[0;31m         \u001b[0mgrad_norm\u001b[0m \u001b[0;34m=\u001b[0m \u001b[0mlinalg\u001b[0m\u001b[0;34m.\u001b[0m\u001b[0mnorm\u001b[0m\u001b[0;34m(\u001b[0m\u001b[0mgrad\u001b[0m\u001b[0;34m)\u001b[0m\u001b[0;34m\u001b[0m\u001b[0m\n\u001b[0m\u001b[1;32m    388\u001b[0m \u001b[0;34m\u001b[0m\u001b[0m\n\u001b[1;32m    389\u001b[0m         \u001b[0minc\u001b[0m \u001b[0;34m=\u001b[0m \u001b[0mupdate\u001b[0m \u001b[0;34m*\u001b[0m \u001b[0mgrad\u001b[0m \u001b[0;34m>=\u001b[0m \u001b[0;36m0.0\u001b[0m\u001b[0;34m\u001b[0m\u001b[0m\n",
      "\u001b[0;32m/Users/jayden/anaconda/lib/python2.7/site-packages/scipy/linalg/misc.pyc\u001b[0m in \u001b[0;36mnorm\u001b[0;34m(a, ord, axis, keepdims)\u001b[0m\n\u001b[1;32m    127\u001b[0m     \"\"\"\n\u001b[1;32m    128\u001b[0m     \u001b[0;31m# Differs from numpy only in non-finite handling and the use of blas.\u001b[0m\u001b[0;34m\u001b[0m\u001b[0;34m\u001b[0m\u001b[0m\n\u001b[0;32m--> 129\u001b[0;31m     \u001b[0ma\u001b[0m \u001b[0;34m=\u001b[0m \u001b[0mnp\u001b[0m\u001b[0;34m.\u001b[0m\u001b[0masarray_chkfinite\u001b[0m\u001b[0;34m(\u001b[0m\u001b[0ma\u001b[0m\u001b[0;34m)\u001b[0m\u001b[0;34m\u001b[0m\u001b[0m\n\u001b[0m\u001b[1;32m    130\u001b[0m \u001b[0;34m\u001b[0m\u001b[0m\n\u001b[1;32m    131\u001b[0m     \u001b[0;31m# Only use optimized norms if axis and keepdims are not specified.\u001b[0m\u001b[0;34m\u001b[0m\u001b[0;34m\u001b[0m\u001b[0m\n",
      "\u001b[0;32m/Users/jayden/anaconda/lib/python2.7/site-packages/numpy/lib/function_base.pyc\u001b[0m in \u001b[0;36masarray_chkfinite\u001b[0;34m(a, dtype, order)\u001b[0m\n\u001b[1;32m   1031\u001b[0m     \u001b[0;32mif\u001b[0m \u001b[0ma\u001b[0m\u001b[0;34m.\u001b[0m\u001b[0mdtype\u001b[0m\u001b[0;34m.\u001b[0m\u001b[0mchar\u001b[0m \u001b[0;32min\u001b[0m \u001b[0mtypecodes\u001b[0m\u001b[0;34m[\u001b[0m\u001b[0;34m'AllFloat'\u001b[0m\u001b[0;34m]\u001b[0m \u001b[0;32mand\u001b[0m \u001b[0;32mnot\u001b[0m \u001b[0mnp\u001b[0m\u001b[0;34m.\u001b[0m\u001b[0misfinite\u001b[0m\u001b[0;34m(\u001b[0m\u001b[0ma\u001b[0m\u001b[0;34m)\u001b[0m\u001b[0;34m.\u001b[0m\u001b[0mall\u001b[0m\u001b[0;34m(\u001b[0m\u001b[0;34m)\u001b[0m\u001b[0;34m:\u001b[0m\u001b[0;34m\u001b[0m\u001b[0m\n\u001b[1;32m   1032\u001b[0m         raise ValueError(\n\u001b[0;32m-> 1033\u001b[0;31m             \"array must not contain infs or NaNs\")\n\u001b[0m\u001b[1;32m   1034\u001b[0m     \u001b[0;32mreturn\u001b[0m \u001b[0ma\u001b[0m\u001b[0;34m\u001b[0m\u001b[0m\n\u001b[1;32m   1035\u001b[0m \u001b[0;34m\u001b[0m\u001b[0m\n",
      "\u001b[0;31mValueError\u001b[0m: array must not contain infs or NaNs"
     ]
    }
   ],
   "source": [
    "num_points = 400\n",
    "\n",
    "tsne = TSNE(perplexity=30, n_components=2, init='pca', n_iter=5000)\n",
    "two_d_embeddings = tsne.fit_transform(final_embeddings[1:num_points+1, :])"
   ]
  },
  {
   "cell_type": "code",
   "execution_count": 19,
   "metadata": {
    "cellView": "both",
    "colab": {
     "autoexec": {
      "startup": false,
      "wait_interval": 0
     },
     "output_extras": [
      {
       "item_id": 1
      }
     ]
    },
    "colab_type": "code",
    "collapsed": false,
    "executionInfo": {
     "elapsed": 4763,
     "status": "ok",
     "timestamp": 1445965465525,
     "user": {
      "color": "#1FA15D",
      "displayName": "Vincent Vanhoucke",
      "isAnonymous": false,
      "isMe": true,
      "permissionId": "05076109866853157986",
      "photoUrl": "//lh6.googleusercontent.com/-cCJa7dTDcgQ/AAAAAAAAAAI/AAAAAAAACgw/r2EZ_8oYer4/s50-c-k-no/photo.jpg",
      "sessionId": "2f1ffade4c9f20de",
      "userId": "102167687554210253930"
     },
     "user_tz": 420
    },
    "id": "o_e0D_UezcDe",
    "outputId": "df22e4a5-e8ec-4e5e-d384-c6cf37c68c34"
   },
   "outputs": [
    {
     "ename": "NameError",
     "evalue": "name 'two_d_embeddings' is not defined",
     "output_type": "error",
     "traceback": [
      "\u001b[0;31m---------------------------------------------------------------------------\u001b[0m",
      "\u001b[0;31mNameError\u001b[0m                                 Traceback (most recent call last)",
      "\u001b[0;32m<ipython-input-19-60644b7b42e2>\u001b[0m in \u001b[0;36m<module>\u001b[0;34m()\u001b[0m\n\u001b[1;32m     10\u001b[0m \u001b[0;34m\u001b[0m\u001b[0m\n\u001b[1;32m     11\u001b[0m \u001b[0mwords\u001b[0m \u001b[0;34m=\u001b[0m \u001b[0;34m[\u001b[0m\u001b[0mreverse_dictionary\u001b[0m\u001b[0;34m[\u001b[0m\u001b[0mi\u001b[0m\u001b[0;34m]\u001b[0m \u001b[0;32mfor\u001b[0m \u001b[0mi\u001b[0m \u001b[0;32min\u001b[0m \u001b[0mrange\u001b[0m\u001b[0;34m(\u001b[0m\u001b[0;36m1\u001b[0m\u001b[0;34m,\u001b[0m \u001b[0mnum_points\u001b[0m\u001b[0;34m+\u001b[0m\u001b[0;36m1\u001b[0m\u001b[0;34m)\u001b[0m\u001b[0;34m]\u001b[0m\u001b[0;34m\u001b[0m\u001b[0m\n\u001b[0;32m---> 12\u001b[0;31m \u001b[0mplot\u001b[0m\u001b[0;34m(\u001b[0m\u001b[0mtwo_d_embeddings\u001b[0m\u001b[0;34m,\u001b[0m \u001b[0mwords\u001b[0m\u001b[0;34m)\u001b[0m\u001b[0;34m\u001b[0m\u001b[0m\n\u001b[0m",
      "\u001b[0;31mNameError\u001b[0m: name 'two_d_embeddings' is not defined"
     ]
    }
   ],
   "source": [
    "def plot(embeddings, labels):\n",
    "  assert embeddings.shape[0] >= len(labels), 'More labels than embeddings'\n",
    "  pylab.figure(figsize=(15,15))  # in inches\n",
    "  for i, label in enumerate(labels):\n",
    "    x, y = embeddings[i,:]\n",
    "    pylab.scatter(x, y)\n",
    "    pylab.annotate(label, xy=(x, y), xytext=(5, 2), textcoords='offset points',\n",
    "                   ha='right', va='bottom')\n",
    "  pylab.show()\n",
    "\n",
    "words = [reverse_dictionary[i] for i in range(1, num_points+1)]\n",
    "plot(two_d_embeddings, words)"
   ]
  },
  {
   "cell_type": "markdown",
   "metadata": {
    "colab_type": "text",
    "id": "QB5EFrBnpNnc"
   },
   "source": [
    "---\n",
    "\n",
    "Problem\n",
    "-------\n",
    "\n",
    "An alternative to skip-gram is another Word2Vec model called [CBOW](http://arxiv.org/abs/1301.3781) (Continuous Bag of Words). In the CBOW model, instead of predicting a context word from a word vector, you predict a word from the sum of all the word vectors in its context. Implement and evaluate a CBOW model trained on the text8 dataset.\n",
    "\n",
    "---"
   ]
  }
 ],
 "metadata": {
  "colab": {
   "default_view": {},
   "name": "5_word2vec.ipynb",
   "provenance": [],
   "version": "0.3.2",
   "views": {}
  },
  "kernelspec": {
   "display_name": "Python 2",
   "language": "python",
   "name": "python2"
  },
  "language_info": {
   "codemirror_mode": {
    "name": "ipython",
    "version": 2
   },
   "file_extension": ".py",
   "mimetype": "text/x-python",
   "name": "python",
   "nbconvert_exporter": "python",
   "pygments_lexer": "ipython2",
   "version": "2.7.12"
  }
 },
 "nbformat": 4,
 "nbformat_minor": 0
}
