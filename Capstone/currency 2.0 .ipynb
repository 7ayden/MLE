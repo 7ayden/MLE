{
 "cells": [
  {
   "cell_type": "code",
   "execution_count": 8,
   "metadata": {
    "collapsed": false
   },
   "outputs": [
    {
     "name": "stdout",
     "output_type": "stream",
     "text": [
      "           Date   Price    Open    High     Low Change %\n",
      "0     31-Jan-17  1.2513  1.2502  1.2519  1.2492    0.22%\n",
      "1     30-Jan-17  1.2486  1.2548  1.2604  1.2462   -0.87%\n",
      "2     29-Jan-17  1.2595  1.2586  1.2601  1.2559    0.32%\n",
      "3     27-Jan-17  1.2555  1.2590  1.2614  1.2514   -0.30%\n",
      "4     26-Jan-17  1.2593  1.2631  1.2680  1.2554   -0.32%\n",
      "5     25-Jan-17  1.2634  1.2520  1.2643  1.2488    0.90%\n",
      "6     24-Jan-17  1.2521  1.2534  1.2546  1.2415   -0.11%\n",
      "7     23-Jan-17  1.2535  1.2358  1.2546  1.2352    1.29%\n",
      "8     20-Jan-17  1.2375  1.2341  1.2381  1.2259    0.27%\n",
      "9     19-Jan-17  1.2342  1.2256  1.2343  1.2250    0.68%\n",
      "10    18-Jan-17  1.2259  1.2412  1.2417  1.2250   -1.24%\n",
      "11    17-Jan-17  1.2413  1.2043  1.2415  1.2014    3.03%\n",
      "12    16-Jan-17  1.2048  1.2058  1.2090  1.1979   -1.08%\n",
      "13    13-Jan-17  1.2179  1.2155  1.2234  1.2119    0.13%\n",
      "14    12-Jan-17  1.2163  1.2206  1.2318  1.2148   -0.40%\n",
      "15    11-Jan-17  1.2212  1.2175  1.2270  1.2036    0.29%\n",
      "16    10-Jan-17  1.2177  1.2161  1.2191  1.2104    0.12%\n",
      "17     9-Jan-17  1.2162  1.2266  1.2273  1.2122   -1.02%\n",
      "18     6-Jan-17  1.2287  1.2417  1.2437  1.2257   -1.05%\n",
      "19     5-Jan-17  1.2418  1.2321  1.2436  1.2267    0.78%\n",
      "20     4-Jan-17  1.2322  1.2232  1.2356  1.2217    0.68%\n",
      "21     3-Jan-17  1.2239  1.2272  1.2308  1.2198   -0.29%\n",
      "22     2-Jan-17  1.2275  1.2344  1.2354  1.2267   -0.51%\n",
      "23    30-Dec-16  1.2338  1.2260  1.2389  1.2242    0.61%\n",
      "24    29-Dec-16  1.2263  1.2222  1.2280  1.2206    0.30%\n",
      "25    28-Dec-16  1.2226  1.2267  1.2298  1.2197   -0.37%\n",
      "26    27-Dec-16  1.2271  1.2283  1.2290  1.2236   -0.14%\n",
      "27    26-Dec-16  1.2288  1.2262  1.2314  1.2257   -0.03%\n",
      "28    23-Dec-16  1.2292  1.2280  1.2301  1.2226    0.07%\n",
      "29    22-Dec-16  1.2283  1.2349  1.2379  1.2273   -0.57%\n",
      "...         ...     ...     ...     ...     ...      ...\n",
      "1821  11-Feb-10  1.5696  1.5609  1.5718  1.5560    0.56%\n",
      "1822  10-Feb-10  1.5609  1.5692  1.5765  1.5572   -0.54%\n",
      "1823   9-Feb-10  1.5694  1.5574  1.5748  1.5562    0.78%\n",
      "1824   8-Feb-10  1.5572  1.5598  1.5660  1.5536   -0.43%\n",
      "1825   5-Feb-10  1.5640  1.5767  1.5776  1.5559   -0.81%\n",
      "1826   4-Feb-10  1.5767  1.5913  1.5918  1.5732   -0.92%\n",
      "1827   3-Feb-10  1.5914  1.5990  1.6070  1.5876   -0.47%\n",
      "1828   2-Feb-10  1.5989  1.5943  1.5996  1.5903    0.26%\n",
      "1829   1-Feb-10  1.5947  1.5973  1.5980  1.5851   -0.25%\n",
      "1830  29-Jan-10  1.5987  1.6142  1.6180  1.5981   -0.97%\n",
      "1831  28-Jan-10  1.6143  1.6176  1.6276  1.6114   -0.20%\n",
      "1832  27-Jan-10  1.6176  1.6143  1.6244  1.6107    0.20%\n",
      "1833  26-Jan-10  1.6144  1.6246  1.6268  1.6095   -0.65%\n",
      "1834  25-Jan-10  1.6250  1.6116  1.6261  1.6096    0.85%\n",
      "1835  22-Jan-10  1.6113  1.6199  1.6284  1.6078   -0.54%\n",
      "1836  21-Jan-10  1.6200  1.6304  1.6309  1.6126   -0.63%\n",
      "1837  20-Jan-10  1.6302  1.6361  1.6370  1.6244   -0.35%\n",
      "1838  19-Jan-10  1.6359  1.6352  1.6458  1.6313    0.04%\n",
      "1839  18-Jan-10  1.6353  1.6289  1.6378  1.6251    0.56%\n",
      "1840  15-Jan-10  1.6262  1.6335  1.6356  1.6211   -0.45%\n",
      "1841  14-Jan-10  1.6336  1.6282  1.6347  1.6249    0.33%\n",
      "1842  13-Jan-10  1.6283  1.6153  1.6307  1.6136    0.82%\n",
      "1843  12-Jan-10  1.6151  1.6111  1.6195  1.6062    0.24%\n",
      "1844  11-Jan-10  1.6113  1.6082  1.6194  1.6064    0.57%\n",
      "1845   8-Jan-10  1.6021  1.5934  1.6111  1.5916    0.55%\n",
      "1846   7-Jan-10  1.5933  1.6022  1.6058  1.5896   -0.54%\n",
      "1847   6-Jan-10  1.6020  1.5991  1.6065  1.5938    0.18%\n",
      "1848   5-Jan-10  1.5991  1.6112  1.6155  1.5965   -0.76%\n",
      "1849   4-Jan-10  1.6113  1.6140  1.6242  1.6058   -0.33%\n",
      "1850   1-Jan-10  1.6167  1.6167  1.6167  1.6167    0.00%\n",
      "\n",
      "[1851 rows x 6 columns]\n"
     ]
    }
   ],
   "source": [
    "# %load import_data.py\n",
    "import urllib\n",
    "import pandas as pd\n",
    "import numpy as np\n",
    "import pickle\n",
    "\n",
    "df=pd.read_csv(\"data/GBP_USD.csv\")\n",
    "#for symbol in list[\"SYMBOL\"]:\n",
    "#    prices = pd.read_csv(\"data/GBP_USD.csv\")\n",
    "#    print prices.head()\n",
    "print df\n",
    "\n",
    "    "
   ]
  },
  {
   "cell_type": "code",
   "execution_count": 17,
   "metadata": {
    "collapsed": false
   },
   "outputs": [
    {
     "name": "stdout",
     "output_type": "stream",
     "text": [
      "2014-12-28-fed-monthly-currency-data.csv\r\n",
      "2017.csv\r\n",
      "Algorithm Trading using Q-Learning and Recurrent Reinforcement Learning.pdf\r\n",
      "An Investigation into the Use of Reinforcement Learning Techniques within the Algorithmic Trading Domain.pdf\r\n",
      "BOE-XUDLGPD.csv\r\n",
      "BOE-XUDLUSS.csv\r\n",
      "Currency Portfolio Optimization (Jaydens-MacBook-Pro.local's conflicted copy 2017-01-19).ipynb\r\n",
      "Currency Portfolio Optimization.ipynb\r\n",
      "FMAC-HPI_USA.csv\r\n",
      "Finance trade.docx\r\n",
      "Forecasting of Foreign Currency Exchange Rate Using Neural Network .pdf\r\n",
      "Forex-Foreteller- Currency Trend Modeling using News Articles.pdf\r\n",
      "\u001b[34mML_Nanodegree_DeepQTrader\u001b[m\u001b[m/\r\n",
      "PERTH-USD_JPY_M.csv\r\n",
      "\u001b[34mPattern-Recognition-for-Forex-Trading\u001b[m\u001b[m/\r\n",
      "Trading with Artificial Neural Nets – High Frequency Trading - Article contest - Dukascopy Community.pdf\r\n",
      "\u001b[34mTrading-Finance\u001b[m\u001b[m/\r\n",
      "UGID-IFIR_USA.csv\r\n",
      "Untitled.ipynb\r\n",
      "Untitled1.ipynb\r\n",
      "Using Recurrent Neural Networks To Forecasting of Forex V.V.Kondratenko1  and Yu. A Kuperin2.pdf\r\n",
      "VoiTotalsByAssetClassExcelExport (1).xls\r\n",
      "VoiTotalsByAssetClassExcelExport (2).xls\r\n",
      "VoiTotalsByAssetClassExcelExport (3).xls\r\n",
      "VoiTotalsByAssetClassExcelExport.xls\r\n",
      "algorithmic_trading_basic_to_advanced_strategies.pdf\r\n",
      "all.csv\r\n",
      "\u001b[34mawesome-rl\u001b[m\u001b[m/\r\n",
      "\u001b[34mc-ud501\u001b[m\u001b[m/\r\n",
      "capstone udacity.docx\r\n",
      "currency 2.0 .ipynb\r\n",
      "currency-portfolio-scienceops.py\r\n",
      "currency.docx\r\n",
      "\u001b[34mdata\u001b[m\u001b[m/\r\n",
      "\u001b[34mforex\u001b[m\u001b[m/\r\n",
      "\u001b[34mforex_algotrading\u001b[m\u001b[m/\r\n",
      "lecture2.pdf\r\n",
      "\u001b[34mmachine_learning_for_trading\u001b[m\u001b[m/\r\n",
      "\u001b[34mneural-network-stock-predictor\u001b[m\u001b[m/\r\n",
      "\u001b[34mqsforex\u001b[m\u001b[m/\r\n",
      "\u001b[34mreinforcement-learning\u001b[m\u001b[m/\r\n",
      "\u001b[34mreinforcement-learning-an-introduction\u001b[m\u001b[m/\r\n",
      "report_282.pdf\r\n",
      "requirements.txt\r\n"
     ]
    }
   ],
   "source": []
  },
  {
   "cell_type": "code",
   "execution_count": 10,
   "metadata": {
    "collapsed": true
   },
   "outputs": [],
   "source": [
    "#col names: Date\tPrice\tOpen\tHigh\tLow\tChange %"
   ]
  },
  {
   "cell_type": "code",
   "execution_count": 15,
   "metadata": {
    "collapsed": false
   },
   "outputs": [
    {
     "data": {
      "image/png": "[encoded data removed]",
      "text/plain": [
       "<matplotlib.figure.Figure at 0x1107a49d0>"
      ]
     },
     "metadata": {},
     "output_type": "display_data"
    }
   ],
   "source": [
    "import matplotlib.pyplot as plt\n",
    "df = pd.read_csv(\"data/GBP_USD.csv\")\n",
    "df[['Price','High']].plot()\n",
    "plt.show()"
   ]
  },
  {
   "cell_type": "code",
   "execution_count": 19,
   "metadata": {
    "collapsed": false
   },
   "outputs": [
    {
     "name": "stderr",
     "output_type": "stream",
     "text": [
      "/Users/jaydenyuen/anaconda/envs/DAND/lib/python2.7/site-packages/ipykernel/__main__.py:3: FutureWarning: pd.rolling_mean is deprecated for DataFrame and will be removed in a future version, replace with \n",
      "\tDataFrame.rolling(min_periods=0,window=10,center=False).mean()\n",
      "  app.launch_new_instance()\n"
     ]
    },
    {
     "ename": "TypeError",
     "evalue": "unsupported operand type(s) for /: 'str' and 'str'",
     "output_type": "error",
     "traceback": [
      "\u001b[0;31m---------------------------------------------------------------------------\u001b[0m",
      "\u001b[0;31mTypeError\u001b[0m                                 Traceback (most recent call last)",
      "\u001b[0;32m<ipython-input-19-ce44965f2654>\u001b[0m in \u001b[0;36m<module>\u001b[0;34m()\u001b[0m\n\u001b[1;32m    100\u001b[0m \u001b[0;34m\u001b[0m\u001b[0m\n\u001b[1;32m    101\u001b[0m \u001b[0;32mif\u001b[0m \u001b[0m__name__\u001b[0m \u001b[0;34m==\u001b[0m \u001b[0;34m\"__main__\"\u001b[0m\u001b[0;34m:\u001b[0m\u001b[0;34m\u001b[0m\u001b[0m\n\u001b[0;32m--> 102\u001b[0;31m     \u001b[0mCalculateAdjSMAs\u001b[0m\u001b[0;34m(\u001b[0m\u001b[0mdf\u001b[0m\u001b[0;34m)\u001b[0m\u001b[0;34m\u001b[0m\u001b[0m\n\u001b[0m\u001b[1;32m    103\u001b[0m     \u001b[0mCalculateBollingerBands\u001b[0m\u001b[0;34m(\u001b[0m\u001b[0mdf\u001b[0m\u001b[0;34m)\u001b[0m\u001b[0;34m\u001b[0m\u001b[0m\n\u001b[1;32m    104\u001b[0m     \u001b[0mCalculateStates\u001b[0m\u001b[0;34m(\u001b[0m\u001b[0mdf\u001b[0m\u001b[0;34m,\u001b[0m\u001b[0;36m1\u001b[0m\u001b[0;34m,\u001b[0m\u001b[0;34m[\u001b[0m\u001b[0;34m'adjsma20'\u001b[0m\u001b[0;34m,\u001b[0m\u001b[0;34m'bb20'\u001b[0m\u001b[0;34m]\u001b[0m\u001b[0;34m,\u001b[0m\u001b[0;34m'2016-01-01'\u001b[0m\u001b[0;34m)\u001b[0m\u001b[0;34m\u001b[0m\u001b[0m\n",
      "\u001b[0;32m<ipython-input-19-ce44965f2654>\u001b[0m in \u001b[0;36mCalculateAdjSMAs\u001b[0;34m(df)\u001b[0m\n\u001b[1;32m     28\u001b[0m     \u001b[0;32mfor\u001b[0m \u001b[0mw\u001b[0m \u001b[0;32min\u001b[0m \u001b[0;34m[\u001b[0m\u001b[0;36m10\u001b[0m\u001b[0;34m,\u001b[0m \u001b[0;36m20\u001b[0m\u001b[0;34m,\u001b[0m \u001b[0;36m50\u001b[0m\u001b[0;34m,\u001b[0m \u001b[0;36m200\u001b[0m\u001b[0;34m]\u001b[0m\u001b[0;34m:\u001b[0m\u001b[0;34m\u001b[0m\u001b[0m\n\u001b[1;32m     29\u001b[0m         \u001b[0msma\u001b[0m \u001b[0;34m=\u001b[0m \u001b[0mget_rolling_mean\u001b[0m\u001b[0;34m(\u001b[0m\u001b[0mdf\u001b[0m\u001b[0;34m,\u001b[0m \u001b[0mw\u001b[0m\u001b[0;34m,\u001b[0m \u001b[0;36m0\u001b[0m\u001b[0;34m)\u001b[0m\u001b[0;34m\u001b[0m\u001b[0m\n\u001b[0;32m---> 30\u001b[0;31m         \u001b[0madjsma\u001b[0m \u001b[0;34m=\u001b[0m \u001b[0mdf\u001b[0m \u001b[0;34m/\u001b[0m \u001b[0msma\u001b[0m\u001b[0;34m-\u001b[0m\u001b[0;36m1\u001b[0m\u001b[0;34m\u001b[0m\u001b[0m\n\u001b[0m\u001b[1;32m     31\u001b[0m         \u001b[0madjsma\u001b[0m\u001b[0;34m.\u001b[0m\u001b[0mto_pickle\u001b[0m\u001b[0;34m(\u001b[0m\u001b[0;34m'data/adjsma{}.pkl'\u001b[0m\u001b[0;34m.\u001b[0m\u001b[0mformat\u001b[0m\u001b[0;34m(\u001b[0m\u001b[0mw\u001b[0m\u001b[0;34m)\u001b[0m\u001b[0;34m)\u001b[0m\u001b[0;34m\u001b[0m\u001b[0m\n\u001b[1;32m     32\u001b[0m         \u001b[0;32mprint\u001b[0m\u001b[0;34m(\u001b[0m\u001b[0;34m\"AdjSMA {} Saved!\"\u001b[0m\u001b[0;34m.\u001b[0m\u001b[0mformat\u001b[0m\u001b[0;34m(\u001b[0m\u001b[0mw\u001b[0m\u001b[0;34m)\u001b[0m\u001b[0;34m)\u001b[0m\u001b[0;34m\u001b[0m\u001b[0m\n",
      "\u001b[0;32m/Users/jaydenyuen/anaconda/envs/DAND/lib/python2.7/site-packages/pandas/core/ops.pyc\u001b[0m in \u001b[0;36mf\u001b[0;34m(self, other, axis, level, fill_value)\u001b[0m\n\u001b[1;32m   1219\u001b[0m \u001b[0;34m\u001b[0m\u001b[0m\n\u001b[1;32m   1220\u001b[0m         \u001b[0;32mif\u001b[0m \u001b[0misinstance\u001b[0m\u001b[0;34m(\u001b[0m\u001b[0mother\u001b[0m\u001b[0;34m,\u001b[0m \u001b[0mpd\u001b[0m\u001b[0;34m.\u001b[0m\u001b[0mDataFrame\u001b[0m\u001b[0;34m)\u001b[0m\u001b[0;34m:\u001b[0m  \u001b[0;31m# Another DataFrame\u001b[0m\u001b[0;34m\u001b[0m\u001b[0m\n\u001b[0;32m-> 1221\u001b[0;31m             \u001b[0;32mreturn\u001b[0m \u001b[0mself\u001b[0m\u001b[0;34m.\u001b[0m\u001b[0m_combine_frame\u001b[0m\u001b[0;34m(\u001b[0m\u001b[0mother\u001b[0m\u001b[0;34m,\u001b[0m \u001b[0mna_op\u001b[0m\u001b[0;34m,\u001b[0m \u001b[0mfill_value\u001b[0m\u001b[0;34m,\u001b[0m \u001b[0mlevel\u001b[0m\u001b[0;34m)\u001b[0m\u001b[0;34m\u001b[0m\u001b[0m\n\u001b[0m\u001b[1;32m   1222\u001b[0m         \u001b[0;32melif\u001b[0m \u001b[0misinstance\u001b[0m\u001b[0;34m(\u001b[0m\u001b[0mother\u001b[0m\u001b[0;34m,\u001b[0m \u001b[0mABCSeries\u001b[0m\u001b[0;34m)\u001b[0m\u001b[0;34m:\u001b[0m\u001b[0;34m\u001b[0m\u001b[0m\n\u001b[1;32m   1223\u001b[0m             \u001b[0;32mreturn\u001b[0m \u001b[0mself\u001b[0m\u001b[0;34m.\u001b[0m\u001b[0m_combine_series\u001b[0m\u001b[0;34m(\u001b[0m\u001b[0mother\u001b[0m\u001b[0;34m,\u001b[0m \u001b[0mna_op\u001b[0m\u001b[0;34m,\u001b[0m \u001b[0mfill_value\u001b[0m\u001b[0;34m,\u001b[0m \u001b[0maxis\u001b[0m\u001b[0;34m,\u001b[0m \u001b[0mlevel\u001b[0m\u001b[0;34m)\u001b[0m\u001b[0;34m\u001b[0m\u001b[0m\n",
      "\u001b[0;32m/Users/jaydenyuen/anaconda/envs/DAND/lib/python2.7/site-packages/pandas/core/frame.pyc\u001b[0m in \u001b[0;36m_combine_frame\u001b[0;34m(self, other, func, fill_value, level)\u001b[0m\n\u001b[1;32m   3557\u001b[0m                                                     dtype=r.dtype)\n\u001b[1;32m   3558\u001b[0m \u001b[0;34m\u001b[0m\u001b[0m\n\u001b[0;32m-> 3559\u001b[0;31m                 \u001b[0mresult\u001b[0m \u001b[0;34m=\u001b[0m \u001b[0mdict\u001b[0m\u001b[0;34m(\u001b[0m\u001b[0;34m[\u001b[0m\u001b[0;34m(\u001b[0m\u001b[0mcol\u001b[0m\u001b[0;34m,\u001b[0m \u001b[0mf\u001b[0m\u001b[0;34m(\u001b[0m\u001b[0mcol\u001b[0m\u001b[0;34m)\u001b[0m\u001b[0;34m)\u001b[0m \u001b[0;32mfor\u001b[0m \u001b[0mcol\u001b[0m \u001b[0;32min\u001b[0m \u001b[0mthis\u001b[0m\u001b[0;34m]\u001b[0m\u001b[0;34m)\u001b[0m\u001b[0;34m\u001b[0m\u001b[0m\n\u001b[0m\u001b[1;32m   3560\u001b[0m \u001b[0;34m\u001b[0m\u001b[0m\n\u001b[1;32m   3561\u001b[0m             \u001b[0;31m# non-unique\u001b[0m\u001b[0;34m\u001b[0m\u001b[0;34m\u001b[0m\u001b[0m\n",
      "\u001b[0;32m/Users/jaydenyuen/anaconda/envs/DAND/lib/python2.7/site-packages/pandas/core/frame.pyc\u001b[0m in \u001b[0;36mf\u001b[0;34m(col)\u001b[0m\n\u001b[1;32m   3553\u001b[0m \u001b[0;34m\u001b[0m\u001b[0m\n\u001b[1;32m   3554\u001b[0m                 \u001b[0;32mdef\u001b[0m \u001b[0mf\u001b[0m\u001b[0;34m(\u001b[0m\u001b[0mcol\u001b[0m\u001b[0;34m)\u001b[0m\u001b[0;34m:\u001b[0m\u001b[0;34m\u001b[0m\u001b[0m\n\u001b[0;32m-> 3555\u001b[0;31m                     \u001b[0mr\u001b[0m \u001b[0;34m=\u001b[0m \u001b[0m_arith_op\u001b[0m\u001b[0;34m(\u001b[0m\u001b[0mthis\u001b[0m\u001b[0;34m[\u001b[0m\u001b[0mcol\u001b[0m\u001b[0;34m]\u001b[0m\u001b[0;34m.\u001b[0m\u001b[0mvalues\u001b[0m\u001b[0;34m,\u001b[0m \u001b[0mother\u001b[0m\u001b[0;34m[\u001b[0m\u001b[0mcol\u001b[0m\u001b[0;34m]\u001b[0m\u001b[0;34m.\u001b[0m\u001b[0mvalues\u001b[0m\u001b[0;34m)\u001b[0m\u001b[0;34m\u001b[0m\u001b[0m\n\u001b[0m\u001b[1;32m   3556\u001b[0m                     return self._constructor_sliced(r, index=new_index,\n\u001b[1;32m   3557\u001b[0m                                                     dtype=r.dtype)\n",
      "\u001b[0;32m/Users/jaydenyuen/anaconda/envs/DAND/lib/python2.7/site-packages/pandas/core/frame.pyc\u001b[0m in \u001b[0;36m_arith_op\u001b[0;34m(left, right)\u001b[0m\n\u001b[1;32m   3545\u001b[0m                 \u001b[0mright\u001b[0m\u001b[0;34m[\u001b[0m\u001b[0mright_mask\u001b[0m \u001b[0;34m&\u001b[0m \u001b[0mmask\u001b[0m\u001b[0;34m]\u001b[0m \u001b[0;34m=\u001b[0m \u001b[0mfill_value\u001b[0m\u001b[0;34m\u001b[0m\u001b[0m\n\u001b[1;32m   3546\u001b[0m \u001b[0;34m\u001b[0m\u001b[0m\n\u001b[0;32m-> 3547\u001b[0;31m             \u001b[0;32mreturn\u001b[0m \u001b[0mfunc\u001b[0m\u001b[0;34m(\u001b[0m\u001b[0mleft\u001b[0m\u001b[0;34m,\u001b[0m \u001b[0mright\u001b[0m\u001b[0;34m)\u001b[0m\u001b[0;34m\u001b[0m\u001b[0m\n\u001b[0m\u001b[1;32m   3548\u001b[0m \u001b[0;34m\u001b[0m\u001b[0m\n\u001b[1;32m   3549\u001b[0m         \u001b[0;32mif\u001b[0m \u001b[0mthis\u001b[0m\u001b[0;34m.\u001b[0m\u001b[0m_is_mixed_type\u001b[0m \u001b[0;32mor\u001b[0m \u001b[0mother\u001b[0m\u001b[0;34m.\u001b[0m\u001b[0m_is_mixed_type\u001b[0m\u001b[0;34m:\u001b[0m\u001b[0;34m\u001b[0m\u001b[0m\n",
      "\u001b[0;32m/Users/jaydenyuen/anaconda/envs/DAND/lib/python2.7/site-packages/pandas/core/ops.pyc\u001b[0m in \u001b[0;36mna_op\u001b[0;34m(x, y)\u001b[0m\n\u001b[1;32m   1180\u001b[0m                 \u001b[0;32mif\u001b[0m \u001b[0mnp\u001b[0m\u001b[0;34m.\u001b[0m\u001b[0mprod\u001b[0m\u001b[0;34m(\u001b[0m\u001b[0mxrav\u001b[0m\u001b[0;34m.\u001b[0m\u001b[0mshape\u001b[0m\u001b[0;34m)\u001b[0m \u001b[0;32mand\u001b[0m \u001b[0mnp\u001b[0m\u001b[0;34m.\u001b[0m\u001b[0mprod\u001b[0m\u001b[0;34m(\u001b[0m\u001b[0myrav\u001b[0m\u001b[0;34m.\u001b[0m\u001b[0mshape\u001b[0m\u001b[0;34m)\u001b[0m\u001b[0;34m:\u001b[0m\u001b[0;34m\u001b[0m\u001b[0m\n\u001b[1;32m   1181\u001b[0m                     \u001b[0;32mwith\u001b[0m \u001b[0mnp\u001b[0m\u001b[0;34m.\u001b[0m\u001b[0merrstate\u001b[0m\u001b[0;34m(\u001b[0m\u001b[0mall\u001b[0m\u001b[0;34m=\u001b[0m\u001b[0;34m'ignore'\u001b[0m\u001b[0;34m)\u001b[0m\u001b[0;34m:\u001b[0m\u001b[0;34m\u001b[0m\u001b[0m\n\u001b[0;32m-> 1182\u001b[0;31m                         \u001b[0mresult\u001b[0m\u001b[0;34m[\u001b[0m\u001b[0mmask\u001b[0m\u001b[0;34m]\u001b[0m \u001b[0;34m=\u001b[0m \u001b[0mop\u001b[0m\u001b[0;34m(\u001b[0m\u001b[0mxrav\u001b[0m\u001b[0;34m,\u001b[0m \u001b[0myrav\u001b[0m\u001b[0;34m)\u001b[0m\u001b[0;34m\u001b[0m\u001b[0m\n\u001b[0m\u001b[1;32m   1183\u001b[0m             \u001b[0;32melif\u001b[0m \u001b[0mhasattr\u001b[0m\u001b[0;34m(\u001b[0m\u001b[0mx\u001b[0m\u001b[0;34m,\u001b[0m \u001b[0;34m'size'\u001b[0m\u001b[0;34m)\u001b[0m\u001b[0;34m:\u001b[0m\u001b[0;34m\u001b[0m\u001b[0m\n\u001b[1;32m   1184\u001b[0m                 \u001b[0mresult\u001b[0m \u001b[0;34m=\u001b[0m \u001b[0mnp\u001b[0m\u001b[0;34m.\u001b[0m\u001b[0mempty\u001b[0m\u001b[0;34m(\u001b[0m\u001b[0mx\u001b[0m\u001b[0;34m.\u001b[0m\u001b[0msize\u001b[0m\u001b[0;34m,\u001b[0m \u001b[0mdtype\u001b[0m\u001b[0;34m=\u001b[0m\u001b[0mx\u001b[0m\u001b[0;34m.\u001b[0m\u001b[0mdtype\u001b[0m\u001b[0;34m)\u001b[0m\u001b[0;34m\u001b[0m\u001b[0m\n",
      "\u001b[0;31mTypeError\u001b[0m: unsupported operand type(s) for /: 'str' and 'str'"
     ]
    }
   ],
   "source": [
    "\n",
    "def get_rolling_mean(values, window,min_periods=None):\n",
    "    return pd.rolling_mean(values, window=window, min_periods=min_periods)\n",
    "\n",
    "\n",
    "def get_rolling_std(values, window,min_periods=None):\n",
    "    \"\"\"Return rolling standard deviation of given values, using specified window size.\"\"\"\n",
    "    return pd.rolling_std(values, window=window, min_periods=min_periods)\n",
    "\n",
    "\n",
    "def get_bollinger_bands(rm, window,min_periods=None):\n",
    "    rstd=get_rolling_std(rm, window, min_periods)\n",
    "    upper_band=rm+rstd*2\n",
    "    lower_band = rm - rstd * 2\n",
    "    return upper_band, lower_band\n",
    "\n",
    "\n",
    "def getPrices():\n",
    "    list = pd.read_csv(\"data/GBP_USD.csv\")\n",
    "    dates = pd.date_range('2010-01-01', '2016-05-09')\n",
    "    all = get_data(list[\"SYMBOL\"].values.tolist(),dates)\n",
    "    fill_missing_values(all)\n",
    "    all.to_pickle('data/prices.pkl')\n",
    "    print(\"{} Prices Saved!\".format(len(all)))\n",
    "    return all\n",
    "\n",
    "def CalculateAdjSMAs(df):\n",
    "    for w in [10, 20, 50, 200]:\n",
    "        sma = get_rolling_mean(df, w, 0)\n",
    "        adjsma = df / sma-1\n",
    "        adjsma.to_pickle('data/adjsma{}.pkl'.format(w))\n",
    "        print(\"AdjSMA {} Saved!\".format(w))\n",
    "\n",
    "def CalculateBollingerBands(df):\n",
    "    for w in [10, 20, 50, 200]:\n",
    "        bbu,bbl = get_bollinger_bands(df, w,0)\n",
    "        bbu.fillna(method=\"bfill\", inplace=\"TRUE\")\n",
    "        bbl.fillna(method=\"bfill\", inplace=\"TRUE\")\n",
    "        bbub=bbu<df\n",
    "        bblb = bbl > df\n",
    "        bbub=bbub.applymap(lambda x: 1 if x else 0)\n",
    "        bblb=bblb.applymap(lambda x: 1 if x else 0)\n",
    "        bb=bbub-bblb\n",
    "        bb.to_pickle('data/bb{}.pkl'.format(w))\n",
    "\n",
    "        print(\"Bollinger Bands {} Saved!\".format(w))\n",
    "\n",
    "def CalculateBollingerBands(df):\n",
    "    for w in [10, 20, 50, 200]:\n",
    "        bbu,bbl = get_bollinger_bands(df, w,0)\n",
    "        bbu.fillna(method=\"bfill\", inplace=\"TRUE\")\n",
    "        bbl.fillna(method=\"bfill\", inplace=\"TRUE\")\n",
    "        bbub=bbu<df\n",
    "        bblb = bbl > df\n",
    "        bbub=bbub.applymap(lambda x: 1.0 if x else 0.0)\n",
    "        bblb=bblb.applymap(lambda x: 1.0 if x else 0.0)\n",
    "        bb=bbub-bblb\n",
    "        bb.to_pickle('data/bb{}.pkl'.format(w))\n",
    "\n",
    "        print(\"Bollinger Bands {} Saved!\".format(w))\n",
    "\n",
    "\n",
    "def CalculateStates(df,state_size_day,datanames,date_test,save=True):\n",
    "    date_test_conv=np.datetime64(date_test+'T21:00:00.000000000-0300')\n",
    "    data = []\n",
    "    train_states = pd.DataFrame(columns=[\"State\"])\n",
    "    test_states = pd.DataFrame(columns=[\"State\"])\n",
    "    nfeatures=0\n",
    "\n",
    "    print(\"Calculating States!\")\n",
    "\n",
    "    for name in datanames:\n",
    "        data.append(pd.read_pickle('data/{}.pkl'.format(name)))\n",
    "\n",
    "    for i in range(state_size_day-1,len(df)):\n",
    "        rest_of_features=[]\n",
    "        for d in data:\n",
    "            for j in range(i-state_size_day+1,i+1):\n",
    "                rest_of_features.extend(d.iloc[j].values)\n",
    "        state=[df.index.values[i]]\n",
    "        state.extend(rest_of_features)\n",
    "        nfeatures = len(state)\n",
    "        if state[0]<=date_test_conv:\n",
    "            train_states.loc[len(train_states)] = [state]\n",
    "        else:\n",
    "            test_states.loc[len(test_states)] = [state]\n",
    "    if save:\n",
    "        print \"Saving Train Data\"\n",
    "        train_states.to_pickle(\"data/train.pkl\")\n",
    "        print \"Saving Test Data\"\n",
    "        test_states.to_pickle(\"data/test.pkl\")\n",
    "        print \"States Saved! {} dimensions\".format(nfeatures)\n",
    "    return train_states,test_states\n",
    "\n",
    "\n",
    "\n",
    "\n",
    "\n",
    "\n",
    "\n",
    "if __name__ == \"__main__\":\n",
    "    CalculateAdjSMAs(df)\n",
    "    CalculateBollingerBands(df)\n",
    "    CalculateStates(df,1,['adjsma20','bb20'],'2016-01-01')\n",
    "    #getAllData(7,['adjsma20','bb20'])\n",
    "    #print(getRandomHoldCombinations(10))\n",
    "\n"
   ]
  },
  {
   "cell_type": "code",
   "execution_count": null,
   "metadata": {
    "collapsed": true
   },
   "outputs": [],
   "source": []
  }
 ],
 "metadata": {
  "anaconda-cloud": {},
  "kernelspec": {
   "display_name": "Python [conda env:DAND]",
   "language": "python",
   "name": "conda-env-DAND-py"
  },
  "language_info": {
   "codemirror_mode": {
    "name": "ipython",
    "version": 2
   },
   "file_extension": ".py",
   "mimetype": "text/x-python",
   "name": "python",
   "nbconvert_exporter": "python",
   "pygments_lexer": "ipython2",
   "version": "2.7.12"
  }
 },
 "nbformat": 4,
 "nbformat_minor": 1
}
